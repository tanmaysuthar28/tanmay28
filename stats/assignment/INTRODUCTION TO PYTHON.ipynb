{
  "nbformat": 4,
  "nbformat_minor": 0,
  "metadata": {
    "colab": {
      "provenance": []
    },
    "kernelspec": {
      "name": "python3",
      "display_name": "Python 3"
    },
    "language_info": {
      "name": "python"
    }
  },
  "cells": [
    {
      "cell_type": "markdown",
      "source": [
        "Q 1 what are the types of applications?\n",
        "\n",
        " 1 web application\n",
        "\n",
        "\n",
        " 2 mobile application\n",
        "\n",
        " 3 desktop application\n",
        "\n",
        " 4 games and entertainment application\n",
        "\n",
        " 5 cloud based application\n"
      ],
      "metadata": {
        "id": "BiTwUME_I5Or"
      }
    },
    {
      "cell_type": "markdown",
      "source": [
        "Q 2 What is programing?\n",
        "\n",
        "    Programming is the process of designing, writing, testing, and maintaining a set of instructions known as code."
      ],
      "metadata": {
        "id": "3Hf_Q4zUJiyb"
      }
    },
    {
      "cell_type": "markdown",
      "source": [
        "Q 3  What is Python?\n",
        "      \n",
        "    Python is a high-level, interpreted programming language."
      ],
      "metadata": {
        "id": "yspaHHFtJ3lx"
      }
    },
    {
      "cell_type": "markdown",
      "source": [
        "Q 4 Write a Python program to check if a number is positive, negative or\n",
        "zero."
      ],
      "metadata": {
        "id": "x03N_cAMKR1N"
      }
    },
    {
      "cell_type": "code",
      "source": [
        "num = float(input(\"Enter a number: \"))\n",
        "\n",
        "if num > 0:\n",
        "    print(\"The number is positive.\")\n",
        "elif num < 0:\n",
        "    print(\"The number is negative.\")\n",
        "else:\n",
        "    print(\"The number is zero.\")\n"
      ],
      "metadata": {
        "colab": {
          "base_uri": "https://localhost:8080/"
        },
        "id": "icZ4eKmmLFzb",
        "outputId": "6758c53b-adf0-48fe-e7f3-e4f3e3851aea"
      },
      "execution_count": null,
      "outputs": [
        {
          "output_type": "stream",
          "name": "stdout",
          "text": [
            "Enter a number: 7\n",
            "The number is positive.\n"
          ]
        }
      ]
    },
    {
      "cell_type": "markdown",
      "source": [
        "Q 5 Write a Python program to get the Factorial number of given numbers"
      ],
      "metadata": {
        "id": "Hn0uIAs9UFwh"
      }
    },
    {
      "cell_type": "code",
      "source": [
        "def factorial(n):\n",
        "    return 1 if n == 0 else n * factorial(n - 1)\n",
        "\n",
        "num = int(input(\"Enter a number: \"))\n",
        "print(f\"Factorial of {num} is {factorial(num)}\")\n"
      ],
      "metadata": {
        "colab": {
          "base_uri": "https://localhost:8080/"
        },
        "id": "DD6mkvQ4U-ae",
        "outputId": "4597710d-833b-4a18-ab77-bfa0818c3944"
      },
      "execution_count": null,
      "outputs": [
        {
          "output_type": "stream",
          "name": "stdout",
          "text": [
            "Enter a number: 4\n",
            "Factorial of 4 is 24\n"
          ]
        }
      ]
    },
    {
      "cell_type": "markdown",
      "source": [
        "Q 6 Write a Python program to get the Fibonacci series of given range."
      ],
      "metadata": {
        "id": "6-OjPCO5VZbS"
      }
    },
    {
      "cell_type": "code",
      "source": [
        "# fabboncci series\n",
        "a,b=0,1\n",
        "for i in range(10):\n",
        "  print(b)\n",
        "  a,b=b,a+b\n"
      ],
      "metadata": {
        "colab": {
          "base_uri": "https://localhost:8080/"
        },
        "id": "wfXRhxRWVlGc",
        "outputId": "e4202038-feaf-4d1b-e0e9-05caea94e577"
      },
      "execution_count": null,
      "outputs": [
        {
          "output_type": "stream",
          "name": "stdout",
          "text": [
            "1\n",
            "1\n",
            "2\n",
            "3\n",
            "5\n",
            "8\n",
            "13\n",
            "21\n",
            "34\n",
            "55\n"
          ]
        }
      ]
    },
    {
      "cell_type": "markdown",
      "source": [
        "Q 7 How memory is managed in Python?\n",
        "\n",
        "    memory managment in python is automatically done by sytem known as memory managment or garbage collection."
      ],
      "metadata": {
        "id": "Shw8SppuWKtn"
      }
    },
    {
      "cell_type": "markdown",
      "source": [
        "Q 8 What is the purpose continuing statement in python?\n",
        "\n",
        "   The continue statement in Python is used to skip the current iteration of a loop (either for or while) and immediately jump to the next iteration."
      ],
      "metadata": {
        "id": "-Js-Soe8Wnx2"
      }
    },
    {
      "cell_type": "markdown",
      "source": [
        " Q 9 Write python program that swap two number with temp variable and without temp variable."
      ],
      "metadata": {
        "id": "RQ4vI62yXVem"
      }
    },
    {
      "cell_type": "code",
      "source": [
        "a = int(input(\"Enter the first number: \"))\n",
        "b = int(input(\"Enter the second number: \"))\n",
        "\n",
        "print(f\"Before swapping: a = {a}, b = {b}\")\n",
        "temp = a\n",
        "a = b\n",
        "b = temp\n",
        "\n",
        "print(f\"After swapping: a = {a}, b = {b}\")"
      ],
      "metadata": {
        "id": "wPdycyzEXYzd",
        "colab": {
          "base_uri": "https://localhost:8080/"
        },
        "outputId": "53adb0af-0a73-44ba-8a50-f6a9826924b9"
      },
      "execution_count": null,
      "outputs": [
        {
          "output_type": "stream",
          "name": "stdout",
          "text": [
            "Enter the first number: 6\n",
            "Enter the second number: 3\n",
            "Before swapping: a = 6, b = 3\n",
            "After swapping: a = 3, b = 6\n"
          ]
        }
      ]
    },
    {
      "cell_type": "markdown",
      "source": [
        "Q 10 Write a Python program to find whether a given number is even\n",
        "or odd, print out an appropriate message to the user."
      ],
      "metadata": {
        "id": "uNNOqck5a2lK"
      }
    },
    {
      "cell_type": "code",
      "source": [
        "def check_even_odd(number):\n",
        "    if number % 2 == 0:\n",
        "        print(f\"{number} is an even number.\")\n",
        "    else:\n",
        "        print(f\"{number} is an odd number.\")\n",
        "\n",
        "num = int(input(\"Enter a number: \"))\n",
        "check_even_odd(num)\n"
      ],
      "metadata": {
        "colab": {
          "base_uri": "https://localhost:8080/"
        },
        "id": "r-uKHSCJbpqT",
        "outputId": "c1b6a8a4-bd9f-4e11-8ad1-70c099214711"
      },
      "execution_count": null,
      "outputs": [
        {
          "output_type": "stream",
          "name": "stdout",
          "text": [
            "Enter a number: 7\n",
            "7 is an odd number.\n"
          ]
        }
      ]
    },
    {
      "cell_type": "markdown",
      "source": [
        "Q 11 Write a Python program to test whether a passed letter is a vowel\n",
        "or not."
      ],
      "metadata": {
        "id": "z3H3L6ktuIO3"
      }
    },
    {
      "cell_type": "code",
      "source": [
        "def is_vowel(letter):\n",
        "    return letter.lower() in 'aeiou'\n",
        "\n",
        "letter = input(\"Enter a letter: \")\n",
        "print(f\"{letter} is a vowel.\" if is_vowel(letter)\n",
        "else f\"{letter} is not a vowel.\")\n"
      ],
      "metadata": {
        "colab": {
          "base_uri": "https://localhost:8080/"
        },
        "id": "7fY4rMWquLKw",
        "outputId": "56598e8e-e04c-4a94-a960-8eb89d103218"
      },
      "execution_count": null,
      "outputs": [
        {
          "output_type": "stream",
          "name": "stdout",
          "text": [
            "Enter a letter: o\n",
            "o is a vowel.\n"
          ]
        }
      ]
    },
    {
      "cell_type": "markdown",
      "source": [
        "Q 12 Write a Python program to sum of three given integers. However, if\n",
        "two values are equal sum will be zero."
      ],
      "metadata": {
        "id": "nHsrE_DXuz-P"
      }
    },
    {
      "cell_type": "code",
      "source": [
        "def sum_of_integers(a, b, c):\n",
        "    if a == b or b == c or a == c:\n",
        "        return 0\n",
        "    else:\n",
        "        return a + b + c\n",
        "\n",
        "a = int(input(\"Enter the first integer: \"))\n",
        "b = int(input(\"Enter the second integer: \"))\n",
        "c = int(input(\"Enter the third integer: \"))\n",
        "\n",
        "result = sum_of_integers(a, b, c)\n",
        "\n",
        "print(f\"The result is: {result}\")\n"
      ],
      "metadata": {
        "colab": {
          "base_uri": "https://localhost:8080/"
        },
        "id": "Ektb2li6u6AX",
        "outputId": "19c7069e-8a77-4d29-dc0e-06707ce1aba9"
      },
      "execution_count": null,
      "outputs": [
        {
          "output_type": "stream",
          "name": "stdout",
          "text": [
            "Enter the first integer: 3\n",
            "Enter the second integer: 5\n",
            "Enter the third integer: 3\n",
            "The result is: 0\n"
          ]
        }
      ]
    },
    {
      "cell_type": "markdown",
      "source": [
        "Q 13 Write a Python program that will return true if the two given\n",
        "integer values are equal or their sum or difference is 5.\n"
      ],
      "metadata": {
        "id": "w5RqKCnPvqR5"
      }
    },
    {
      "cell_type": "code",
      "source": [
        "def check_numbers(a, b):\n",
        "    return a == b or abs(a - b) == 5 or a + b == 5\n",
        "\n",
        "a = int(input(\"Enter first number: \"))\n",
        "b = int(input(\"Enter second number: \"))\n",
        "print(check_numbers(a, b))"
      ],
      "metadata": {
        "colab": {
          "base_uri": "https://localhost:8080/"
        },
        "id": "W-_W1Mx2vx-g",
        "outputId": "cf5b4468-a4c2-4ce1-d3f5-b700e6f9057c"
      },
      "execution_count": null,
      "outputs": [
        {
          "output_type": "stream",
          "name": "stdout",
          "text": [
            "Enter first number: 5\n",
            "Enter second number: 5\n",
            "True\n"
          ]
        }
      ]
    },
    {
      "cell_type": "markdown",
      "source": [
        "Q 14 Write a python program to sum of the first n positive integers."
      ],
      "metadata": {
        "id": "8gnIaisgwNr8"
      }
    },
    {
      "cell_type": "code",
      "source": [
        "def sum_of_integers(n):\n",
        "    return n * (n + 1) // 2\n",
        "\n",
        "n = int(input(\"Enter a positive integer: \"))\n",
        "print(f\"The sum of the first {n} integers is: {sum_of_integers(n)}\")"
      ],
      "metadata": {
        "colab": {
          "base_uri": "https://localhost:8080/"
        },
        "id": "GX76eIXcwSJo",
        "outputId": "5ad9b320-5825-4e83-e3ff-ef6111367261"
      },
      "execution_count": null,
      "outputs": [
        {
          "output_type": "stream",
          "name": "stdout",
          "text": [
            "Enter a positive integer: 4\n",
            "The sum of the first 4 integers is: 10\n"
          ]
        }
      ]
    },
    {
      "cell_type": "markdown",
      "source": [
        "Q 15 Write a Python program to calculate the length of a string."
      ],
      "metadata": {
        "id": "tsZ3yBa9wtoi"
      }
    },
    {
      "cell_type": "code",
      "source": [
        "def string_length(s):\n",
        "    return len(s)\n",
        "\n",
        "s = input(\"Enter a string: \")\n",
        "print(f\"The length of the string is: {string_length(s)}\")"
      ],
      "metadata": {
        "colab": {
          "base_uri": "https://localhost:8080/"
        },
        "id": "pSqe6UnPwxcp",
        "outputId": "d9bc3f4f-f9a9-4468-c015-927e8a437c1a"
      },
      "execution_count": null,
      "outputs": [
        {
          "output_type": "stream",
          "name": "stdout",
          "text": [
            "Enter a string: tanmay\n",
            "The length of the string is: 6\n"
          ]
        }
      ]
    },
    {
      "cell_type": "markdown",
      "source": [
        "Q 16 Write a Python program to count the number of characters\n",
        "(character frequency) in a string"
      ],
      "metadata": {
        "id": "duS_VzgVxBmZ"
      }
    },
    {
      "cell_type": "code",
      "source": [
        "def char_frequency(s):\n",
        "    return {char: s.count(char) for char in set(s)}\n",
        "\n",
        "s = input(\"Enter a string: \")\n",
        "print(char_frequency(s))\n"
      ],
      "metadata": {
        "colab": {
          "base_uri": "https://localhost:8080/"
        },
        "id": "96mToH5gxGFJ",
        "outputId": "13e4c8f6-fa3a-4847-d418-4abdc1ec0581"
      },
      "execution_count": null,
      "outputs": [
        {
          "output_type": "stream",
          "name": "stdout",
          "text": [
            "Enter a string: tanmay\n",
            "{'t': 1, 'y': 1, 'a': 2, 'n': 1, 'm': 1}\n"
          ]
        }
      ]
    },
    {
      "cell_type": "markdown",
      "source": [
        "Q 17 What are negative indexes and why are they used?\n",
        "\n",
        "  Negative indexes in Python are a way to access elements from the end of a list, string, or other sequence types."
      ],
      "metadata": {
        "id": "x6pzim8nxsmy"
      }
    },
    {
      "cell_type": "markdown",
      "source": [
        "Q 18 Write a Python program to count occurrences of a substring in a string.\n",
        "\n"
      ],
      "metadata": {
        "id": "-adPqBm3JtBu"
      }
    },
    {
      "cell_type": "code",
      "source": [
        "def count_substring(s, sub):\n",
        "    return s.count(sub)\n",
        "\n",
        "s = input(\"Enter the main string: \")\n",
        "sub = input(\"Enter the substring: \")\n",
        "print(f\"Occurrences of '{sub}' in the string: {count_substring(s, sub)}\")\n"
      ],
      "metadata": {
        "colab": {
          "base_uri": "https://localhost:8080/"
        },
        "id": "DTnFtsLKKFma",
        "outputId": "10bbc3dc-cad2-4554-eb0b-8c85d5677f6d"
      },
      "execution_count": null,
      "outputs": [
        {
          "output_type": "stream",
          "name": "stdout",
          "text": [
            "Enter the main string: tanmay\n",
            "Enter the substring: tanmay\n",
            "Occurrences of 'tanmay' in the string: 1\n"
          ]
        }
      ]
    },
    {
      "cell_type": "markdown",
      "source": [
        "Q 19 Write a Python program to count the occurrences of each word a given sentences.\n"
      ],
      "metadata": {
        "id": "yZw-BZbDLB0C"
      }
    },
    {
      "cell_type": "code",
      "source": [
        "def word_count(sentence):\n",
        "    words = sentence.split()\n",
        "    return {word: words.count(word) for word in set(words)}\n",
        "\n",
        "# Example usage\n",
        "sentence = input(\"Enter a sentence: \")\n",
        "print(word_count(sentence))\n"
      ],
      "metadata": {
        "colab": {
          "base_uri": "https://localhost:8080/"
        },
        "id": "UCvRZbtcLW4J",
        "outputId": "9f557618-8f4c-493e-a383-74d4e2d5bf06"
      },
      "execution_count": null,
      "outputs": [
        {
          "output_type": "stream",
          "name": "stdout",
          "text": [
            "Enter a sentence: im tanmay and i want to buy a fortuner\n",
            "{'want': 1, 'buy': 1, 'i': 1, 'a': 1, 'tanmay': 1, 'and': 1, 'to': 1, 'im': 1, 'fortuner': 1}\n"
          ]
        }
      ]
    },
    {
      "cell_type": "markdown",
      "source": [
        "Q 20 Write a Python program to get a single string from two given strings,\n",
        "separated by a space and swap the first two characters of each string.\n"
      ],
      "metadata": {
        "id": "h6JDfl7BMqZO"
      }
    },
    {
      "cell_type": "code",
      "source": [
        "def swap_and_join(str1, str2):\n",
        "    return str2[:2] + str1[2:] + ' ' + str1[:2] + str2[2:]\n",
        "\n",
        "str1 = input(\"Enter first string: \")\n",
        "str2 = input(\"Enter second string: \")\n",
        "print(swap_and_join(str1, str2))\n"
      ],
      "metadata": {
        "colab": {
          "base_uri": "https://localhost:8080/"
        },
        "id": "cGIqtXYpM0o2",
        "outputId": "9254c5e4-835a-4990-8f45-32f1af6f7d2c"
      },
      "execution_count": null,
      "outputs": [
        {
          "output_type": "stream",
          "name": "stdout",
          "text": [
            "Enter first string: tanmay\n",
            "Enter second string: suthar\n",
            "sunmay tathar\n"
          ]
        }
      ]
    },
    {
      "cell_type": "markdown",
      "source": [
        "Q 21 Write a Python program to add 'in' at the end of a given string (length\n",
        "should be at least 3). If the given string already ends with 'ing' then\n",
        "add 'ly' instead if the string length of the given string is less than 3,\n",
        "leave it unchanged."
      ],
      "metadata": {
        "id": "6B_ohtNsN3bb"
      }
    },
    {
      "cell_type": "code",
      "source": [
        "def add_suffix(s):\n",
        "    if len(s) >= 3:\n",
        "        if s.endswith('ing'):\n",
        "            return s + 'ly'\n",
        "        else:\n",
        "            return s + 'ing'\n",
        "    return s\n",
        "\n",
        "s = input(\"Enter a string: \")\n",
        "print(add_suffix(s))\n"
      ],
      "metadata": {
        "colab": {
          "base_uri": "https://localhost:8080/"
        },
        "id": "dXEHxXtXN9IY",
        "outputId": "0358e3ae-0e49-4deb-a476-8954d5971e9f"
      },
      "execution_count": null,
      "outputs": [
        {
          "output_type": "stream",
          "name": "stdout",
          "text": [
            "Enter a string: tanmay\n",
            "tanmaying\n"
          ]
        }
      ]
    },
    {
      "cell_type": "markdown",
      "source": [
        "Q 22 Write a Python function to reverses a string if its length is a multiple\n",
        "of 4.\n"
      ],
      "metadata": {
        "id": "L3QEkNlzPDi6"
      }
    },
    {
      "cell_type": "code",
      "source": [
        "\n",
        "def reverse_string_if_multiple_of_4(string):\n",
        "    if len(string) % 4 == 0:\n",
        "        return string[::-1]\n",
        "    else:\n",
        "        return string\n",
        "\n",
        "user_string = input(\"Enter a string: \")\n",
        "\n",
        "result = reverse_string_if_multiple_of_4(user_string)\n",
        "print(f\"Result: {result}\")"
      ],
      "metadata": {
        "colab": {
          "base_uri": "https://localhost:8080/"
        },
        "id": "ESZQupbDPW8k",
        "outputId": "38d20109-3617-4ee7-995b-5d162dc13814"
      },
      "execution_count": null,
      "outputs": [
        {
          "output_type": "stream",
          "name": "stdout",
          "text": [
            "Enter a string: tanmay\n",
            "Result: tanmay\n"
          ]
        }
      ]
    },
    {
      "cell_type": "markdown",
      "source": [
        "Q 23 Write a Python program to get a string made of the first 2 and the last\n",
        "2 chars from a given a string. If the string length is less than 2, return\n",
        "instead of the empty string.\n"
      ],
      "metadata": {
        "id": "NklJJJuEYHI8"
      }
    },
    {
      "cell_type": "code",
      "source": [
        "def first_and_last_2_chars(string):\n",
        "    if len(string) < 2:\n",
        "        return ''\n",
        "    else:\n",
        "        return string[:2] + string[-2:]\n",
        "\n",
        "user_string = input(\"Enter a string: \")\n",
        "\n",
        "result = first_and_last_2_chars(user_string)\n",
        "print(f\"Result: {result}\")\n"
      ],
      "metadata": {
        "colab": {
          "base_uri": "https://localhost:8080/"
        },
        "id": "44Wb1BWXYJTS",
        "outputId": "1899fa08-e21f-4fb2-da68-a0f8caeba928"
      },
      "execution_count": null,
      "outputs": [
        {
          "output_type": "stream",
          "name": "stdout",
          "text": [
            "Enter a string: tanmay\n",
            "Result: taay\n"
          ]
        }
      ]
    },
    {
      "cell_type": "markdown",
      "source": [
        "Q 24 Write a Python function to insert a string in the middle of a string"
      ],
      "metadata": {
        "id": "tqyUSoKxW1PB"
      }
    },
    {
      "cell_type": "code",
      "source": [
        "def insert_in_middle(main_str, insert_str):\n",
        "    mid = len(main_str) // 2\n",
        "    return main_str[:mid] + insert_str + main_str[mid:]\n",
        "\n",
        "main_str = input(\"Enter the main string: \")\n",
        "insert_str = input(\"Enter the string to insert: \")\n",
        "\n",
        "print(insert_in_middle(main_str, insert_str))\n"
      ],
      "metadata": {
        "colab": {
          "base_uri": "https://localhost:8080/"
        },
        "id": "1-DbHvDHbDvF",
        "outputId": "820efa77-c761-432f-8bf8-765ba8ca720a"
      },
      "execution_count": null,
      "outputs": [
        {
          "output_type": "stream",
          "name": "stdout",
          "text": [
            "Enter the main string: tanmay\n",
            "Enter the string to insert: suthar\n",
            "tansutharmay\n"
          ]
        }
      ]
    },
    {
      "cell_type": "markdown",
      "source": [
        "Q 25 What is List? How will you reverse a list?\n",
        "\n",
        "    A list in Python is a data structure that allows you to store multiple items in a single variable.\n",
        "\n"
      ],
      "metadata": {
        "id": "9TDu0fZkXZKZ"
      }
    },
    {
      "cell_type": "code",
      "source": [
        "my_list = [1, 2, 3, \"apple\", 4.5, [6, 7]]"
      ],
      "metadata": {
        "id": "W-4wdHZbXuSX"
      },
      "execution_count": null,
      "outputs": []
    },
    {
      "cell_type": "markdown",
      "source": [
        "Q 26 How will you remove last object from a list?\n",
        "\n",
        "  "
      ],
      "metadata": {
        "id": "FRAzGlFaX5dA"
      }
    },
    {
      "cell_type": "code",
      "source": [
        "my_list = [1, 2, 3, 4, 5]\n",
        "my_list = my_list[:-1]\n",
        "print(my_list)\n"
      ],
      "metadata": {
        "colab": {
          "base_uri": "https://localhost:8080/"
        },
        "id": "r0bGcE5aYHvy",
        "outputId": "f30a7792-8f21-433a-9d4c-ca3950dceacb"
      },
      "execution_count": null,
      "outputs": [
        {
          "output_type": "stream",
          "name": "stdout",
          "text": [
            "[1, 2, 3, 4]\n"
          ]
        }
      ]
    },
    {
      "cell_type": "markdown",
      "source": [
        "Q 27 Suppose list1 is [2, 33, 222, 14, and 25], what is list1 [-\n",
        "1]?\n"
      ],
      "metadata": {
        "id": "_CrrpFFPYUkU"
      }
    },
    {
      "cell_type": "code",
      "source": [
        "list1 = [2, 33, 222, 14, 25]\n",
        "list1 = [2, 33, 222, 14, 25]\n",
        "\n",
        "print(list1[-1])\n"
      ],
      "metadata": {
        "colab": {
          "base_uri": "https://localhost:8080/"
        },
        "id": "IM9StL_hYcPK",
        "outputId": "5857d916-d932-4014-de61-1d6a13188b0e"
      },
      "execution_count": null,
      "outputs": [
        {
          "output_type": "stream",
          "name": "stdout",
          "text": [
            "25\n"
          ]
        }
      ]
    },
    {
      "cell_type": "markdown",
      "source": [
        "Q 28 Differentiate between append () and extend () methods?\n",
        "\n",
        "\n",
        "EXTENDS  Adds a single element to the end of the list.\n",
        "\n",
        "METHODS  Adds all elements of an iterable (e.g., list, tuple, string) to the end of the list."
      ],
      "metadata": {
        "id": "VA8ODAryY0OK"
      }
    },
    {
      "cell_type": "markdown",
      "source": [
        "Q 29 Write a Python function to get the largest number, smallest num\n",
        "and sum of all from a list"
      ],
      "metadata": {
        "id": "K2ndzMUCZK0g"
      }
    },
    {
      "cell_type": "code",
      "source": [
        "def list_stats(lst):\n",
        "    return max(lst), min(lst), sum(lst)\n",
        "\n",
        "# Example usage\n",
        "nums = [int(x) for x in input(\"Enter numbers separated by spaces: \").split()]\n",
        "print(list_stats(nums))\n"
      ],
      "metadata": {
        "colab": {
          "base_uri": "https://localhost:8080/"
        },
        "id": "6kuweAwEZQ4D",
        "outputId": "08bfedd1-6958-4564-925e-b98f575354f2"
      },
      "execution_count": null,
      "outputs": [
        {
          "output_type": "stream",
          "name": "stdout",
          "text": [
            "Enter numbers separated by spaces: 2 23 45 68 123\n",
            "(123, 2, 261)\n"
          ]
        }
      ]
    },
    {
      "cell_type": "markdown",
      "source": [
        "Q 30 How will you compare two lists?"
      ],
      "metadata": {
        "id": "I0_Md2x2Z4ld"
      }
    },
    {
      "cell_type": "code",
      "source": [
        "list1 = [1, 2,]\n",
        "list2 = [1, 2,]\n",
        "\n",
        "print(list1 == list2)\n",
        "print(list1 == list2)\n"
      ],
      "metadata": {
        "colab": {
          "base_uri": "https://localhost:8080/"
        },
        "id": "B2JPMR7laC5E",
        "outputId": "98af7329-88f1-443e-c100-d4a50edbf818"
      },
      "execution_count": null,
      "outputs": [
        {
          "output_type": "stream",
          "name": "stdout",
          "text": [
            "True\n",
            "True\n"
          ]
        }
      ]
    },
    {
      "cell_type": "markdown",
      "source": [
        "Q 31 Write a Python program to count the number of strings where the string\n",
        "length is 2 or more and the first and last character are same from a given list\n",
        "of strings."
      ],
      "metadata": {
        "id": "Hpxyb1jcagrt"
      }
    },
    {
      "cell_type": "code",
      "source": [
        "def count_strings(lst):\n",
        "    return sum(1 for s in lst if len(s) >= 2 and s[0] == s[-1])\n",
        "\n",
        "# Example usage\n",
        "strings = input(\"Enter a list of strings separated by spaces: \").split()\n",
        "print(count_strings(strings))\n"
      ],
      "metadata": {
        "colab": {
          "base_uri": "https://localhost:8080/"
        },
        "id": "WK-bNllBakEH",
        "outputId": "b2486893-11d4-40e1-df53-6bbcd7b80f61"
      },
      "execution_count": null,
      "outputs": [
        {
          "output_type": "stream",
          "name": "stdout",
          "text": [
            "Enter a list of strings separated by spaces: er t yy uu i \n",
            "2\n"
          ]
        }
      ]
    },
    {
      "cell_type": "markdown",
      "source": [
        "Q 32 Write a Python program to remove duplicates from a list.\n"
      ],
      "metadata": {
        "id": "3taFlCiQC3N9"
      }
    },
    {
      "cell_type": "code",
      "source": [
        "def remove_duplicates(input_list):\n",
        "    return list(set(input_list))\n",
        "\n",
        "my_list = [1, 2, 2, 3, 4, 4, 5]\n",
        "result = remove_duplicates(my_list)\n",
        "print(\"removed duplicates:\", result)\n"
      ],
      "metadata": {
        "colab": {
          "base_uri": "https://localhost:8080/"
        },
        "id": "Y2EtgLc3C7z0",
        "outputId": "e4a898e4-3eeb-4e57-8f90-eb0880253172"
      },
      "execution_count": null,
      "outputs": [
        {
          "output_type": "stream",
          "name": "stdout",
          "text": [
            "removed duplicates: [1, 2, 3, 4, 5]\n"
          ]
        }
      ]
    },
    {
      "cell_type": "markdown",
      "source": [
        "Q 33 Write a Python program to check a list is empty or not."
      ],
      "metadata": {
        "id": "61BgqYucDO_1"
      }
    },
    {
      "cell_type": "code",
      "source": [
        "my_list = []\n",
        "\n",
        "print(\"The list is empty.\" if not my_list else \"The list is not empty.\")"
      ],
      "metadata": {
        "id": "9UnZDnDtEFED",
        "colab": {
          "base_uri": "https://localhost:8080/"
        },
        "outputId": "d3b1f3ac-2aa4-4593-a4ff-885b5c208aed"
      },
      "execution_count": null,
      "outputs": [
        {
          "output_type": "stream",
          "name": "stdout",
          "text": [
            "The list is empty.\n"
          ]
        }
      ]
    },
    {
      "cell_type": "markdown",
      "source": [
        "Q 34 Write a Python function that takes two lists and returns true if they\n",
        "have at least one common member"
      ],
      "metadata": {
        "id": "tnmviohsEwdo"
      }
    },
    {
      "cell_type": "code",
      "source": [
        "def have_common_member(list1, list2):\n",
        "    return any(item in list2 for item in list1)\n",
        "\n",
        "list1 = [1, 2, 0, 4]\n",
        "list2 = [5, 6, 7, 4]\n",
        "\n",
        "print(have_common_member(list1, list2))\n"
      ],
      "metadata": {
        "colab": {
          "base_uri": "https://localhost:8080/"
        },
        "id": "ennKDgPsE339",
        "outputId": "388f3c4e-3106-4cd2-b5d8-e07cc9437c70"
      },
      "execution_count": null,
      "outputs": [
        {
          "output_type": "stream",
          "name": "stdout",
          "text": [
            "True\n"
          ]
        }
      ]
    },
    {
      "cell_type": "markdown",
      "source": [
        "Q 35 Write a Python program to generate and print a list of first and last 5\n",
        "elements where the values are square of numbers between 1 and 30."
      ],
      "metadata": {
        "id": "j1hGnxJEFrnV"
      }
    },
    {
      "cell_type": "code",
      "source": [
        "def generate_squares():\n",
        "\n",
        "    squares = [x**2 for x in range(1, 31)]\n",
        "\n",
        "    first_five = squares[:5]\n",
        "    last_five = squares[-5:]\n",
        "\n",
        "    print(\"First 5 elements:\", first_five)\n",
        "    print(\"Last 5 elements:\", last_five)\n",
        "\n",
        "generate_squares()\n"
      ],
      "metadata": {
        "colab": {
          "base_uri": "https://localhost:8080/"
        },
        "id": "VlWienY3Fv5m",
        "outputId": "b429a057-e82b-49ec-da1c-9f695f2685ea"
      },
      "execution_count": null,
      "outputs": [
        {
          "output_type": "stream",
          "name": "stdout",
          "text": [
            "First 5 elements: [1, 4, 9, 16, 25]\n",
            "Last 5 elements: [676, 729, 784, 841, 900]\n"
          ]
        }
      ]
    },
    {
      "cell_type": "markdown",
      "source": [
        "Q 36 Write a Python function that takes a list and returns a new list with\n",
        "unique elements of the first list"
      ],
      "metadata": {
        "id": "U82ZjFY-loyI"
      }
    },
    {
      "cell_type": "code",
      "source": [
        "def unique_elements(input_list):\n",
        "    unique_list = list(set(input_list))\n",
        "    return unique_list\n",
        "\n",
        "my_list = [1, 2, 2, 3, 4, 4, 5]\n",
        "result = unique_elements(my_list)\n",
        "\n",
        "print(\"Unique elements:\", result)\n"
      ],
      "metadata": {
        "colab": {
          "base_uri": "https://localhost:8080/"
        },
        "id": "CpKCAqasltl6",
        "outputId": "480ee12c-5bb5-4fcf-b83f-401dae4d1ee5"
      },
      "execution_count": null,
      "outputs": [
        {
          "output_type": "stream",
          "name": "stdout",
          "text": [
            "Unique elements: [1, 2, 3, 4, 5]\n"
          ]
        }
      ]
    },
    {
      "cell_type": "markdown",
      "source": [
        "Q 37 Write a Python program to convert a list of characters into a string"
      ],
      "metadata": {
        "id": "NGUmb1fDmKCt"
      }
    },
    {
      "cell_type": "code",
      "source": [
        "def list_to_string(char_list):\n",
        "\n",
        "    return ''.join(char_list)\n",
        "\n",
        "char_list = ['H', 'e', 'l', 'l', 'o', ' ', 'W', 'o', 'r', 'l', 'd']\n",
        "result_string = list_to_string(char_list)\n",
        "print(result_string)\n"
      ],
      "metadata": {
        "colab": {
          "base_uri": "https://localhost:8080/"
        },
        "id": "hRPTMutkWMBl",
        "outputId": "e7f6d223-ded7-41a4-a3fb-b561f9ab4963"
      },
      "execution_count": null,
      "outputs": [
        {
          "output_type": "stream",
          "name": "stdout",
          "text": [
            "Hello World\n"
          ]
        }
      ]
    },
    {
      "cell_type": "markdown",
      "source": [
        "Q 38 Write a Python program to select an item randomly from a list."
      ],
      "metadata": {
        "id": "FpuhszbqWU5V"
      }
    },
    {
      "cell_type": "code",
      "source": [
        "import random\n",
        "\n",
        "items = input(\"Enter items separated by space: \").split()\n",
        "print(\"Randomly selected item:\", random.choice(items))\n"
      ],
      "metadata": {
        "colab": {
          "base_uri": "https://localhost:8080/"
        },
        "id": "UCziHj7V2L4R",
        "outputId": "08f8c4ea-0adf-4e16-ba11-395d32b3e1e9"
      },
      "execution_count": 25,
      "outputs": [
        {
          "output_type": "stream",
          "name": "stdout",
          "text": [
            "Enter items separated by space: 34 56 78 56\n",
            "Randomly selected item: 78\n"
          ]
        }
      ]
    },
    {
      "cell_type": "markdown",
      "source": [
        "Q 39 Write a Python program to find the second smallest number in a list."
      ],
      "metadata": {
        "id": "Fxi-082DWkV2"
      }
    },
    {
      "cell_type": "code",
      "source": [
        "numbers = list(map(int, input(\"Enter numbers separated by space: \").split()))\n",
        "\n",
        "unique_numbers = sorted(set(numbers))\n",
        "\n",
        "print(\"Second smallest number:\", unique_numbers[1] if len(unique_numbers) > 1 else \"Not enough unique numbers\")\n"
      ],
      "metadata": {
        "colab": {
          "base_uri": "https://localhost:8080/"
        },
        "id": "SvxFZqc010kL",
        "outputId": "7a1e555e-a955-4fb4-feb9-baec6db0279d"
      },
      "execution_count": 24,
      "outputs": [
        {
          "output_type": "stream",
          "name": "stdout",
          "text": [
            "Enter numbers separated by space: 2 3 4 56 78 \n",
            "Second smallest number: 3\n"
          ]
        }
      ]
    },
    {
      "cell_type": "markdown",
      "source": [
        "Q 40 Write a Python program to get unique values from a list"
      ],
      "metadata": {
        "id": "twoukZ-eXbyP"
      }
    },
    {
      "cell_type": "code",
      "source": [
        "numbers = list(map(int, input(\"Enter numbers separated by space: \").split()))\n",
        "\n",
        "unique_numbers = list(set(numbers))\n",
        "\n",
        "print(\"Unique values:\", unique_numbers)\n"
      ],
      "metadata": {
        "colab": {
          "base_uri": "https://localhost:8080/"
        },
        "id": "5dT5vRZm1YKc",
        "outputId": "d7ffeb03-118e-4663-edee-26053a68bcfe"
      },
      "execution_count": 23,
      "outputs": [
        {
          "output_type": "stream",
          "name": "stdout",
          "text": [
            "Enter numbers separated by space: 1 3 4 5 6 7 8 \n",
            "Unique values: [1, 3, 4, 5, 6, 7, 8]\n"
          ]
        }
      ]
    },
    {
      "cell_type": "markdown",
      "source": [
        "Q 41 Write a Python program to check whether a list contains a sub list"
      ],
      "metadata": {
        "id": "5fgNpSNcYahn"
      }
    },
    {
      "cell_type": "code",
      "source": [
        "def contains_sublist(main, sub):\n",
        "    return str(sub)[1:-1] in str(main)\n",
        "\n",
        "main_list = [1, 2, [3, 4], 5]\n",
        "sub_list = [3, 4]\n",
        "\n",
        "print(contains_sublist(main_list, sub_list))\n"
      ],
      "metadata": {
        "colab": {
          "base_uri": "https://localhost:8080/"
        },
        "id": "NjmFIn2kYfwM",
        "outputId": "712f929a-dfd9-4307-d066-cb4dbe399d61"
      },
      "execution_count": null,
      "outputs": [
        {
          "output_type": "stream",
          "name": "stdout",
          "text": [
            "True\n"
          ]
        }
      ]
    },
    {
      "cell_type": "markdown",
      "source": [
        "Q 42 Write a Python program to split a list into different variables.\n"
      ],
      "metadata": {
        "id": "4JUb2Ts9Y8lF"
      }
    },
    {
      "cell_type": "code",
      "source": [
        "my_list = [1, 2, 3]\n",
        "\n",
        "a, b, c = my_list\n",
        "\n",
        "print(a)\n",
        "print(b)\n",
        "print(c)\n",
        "\n"
      ],
      "metadata": {
        "id": "6Ilf5YNcZAIO",
        "colab": {
          "base_uri": "https://localhost:8080/"
        },
        "outputId": "4ef68067-6692-4e2a-a358-abca0308cfae"
      },
      "execution_count": null,
      "outputs": [
        {
          "output_type": "stream",
          "name": "stdout",
          "text": [
            "1\n",
            "2\n",
            "3\n"
          ]
        }
      ]
    },
    {
      "cell_type": "markdown",
      "source": [
        "Q 43 What is tuple? Difference between list and tuple.\n",
        "\n",
        "     A tuple is a collection of ordered and immutable elements in Python.\n",
        "\n",
        "     LIST\n",
        "     list is mutable and defined using square bracket.\n",
        "\n",
        "     TUPLE\n",
        "     tuple is unmutable and defined in parentheses."
      ],
      "metadata": {
        "id": "CyLhPwOsZgyN"
      }
    },
    {
      "cell_type": "markdown",
      "source": [
        "Q 44 Write a Python program to create a tuple with different data types."
      ],
      "metadata": {
        "id": "S3alLL8UaFGo"
      }
    },
    {
      "cell_type": "code",
      "source": [
        "my_tuple = (1, \"HELlo\", 3.14, True, [1, 2, 3])\n",
        "\n",
        "print(my_tuple)\n"
      ],
      "metadata": {
        "colab": {
          "base_uri": "https://localhost:8080/"
        },
        "id": "DzLcplXoaIeu",
        "outputId": "734309be-6dfa-40f2-badf-77ed5938b677"
      },
      "execution_count": null,
      "outputs": [
        {
          "output_type": "stream",
          "name": "stdout",
          "text": [
            "(1, 'HELlo', 3.14, True, [1, 2, 3])\n"
          ]
        }
      ]
    },
    {
      "cell_type": "markdown",
      "source": [
        "Q 45 Write a Python program to unzip a list of tuples into individual lists."
      ],
      "metadata": {
        "id": "MHthfZwwaYlO"
      }
    },
    {
      "cell_type": "code",
      "source": [
        "list_of_tuples = [(1, 'a'), (2, 'b'), (3, 'c'), (4, 'd')]\n",
        "\n",
        "list1, list2 = zip(*list_of_tuples)\n",
        "\n",
        "list1 = list(list1)\n",
        "list2 = list(list2)\n",
        "\n",
        "print(\"List 1:\", list1)\n",
        "print(\"List 2:\", list2)\n"
      ],
      "metadata": {
        "colab": {
          "base_uri": "https://localhost:8080/"
        },
        "id": "nu-vKA_nadUe",
        "outputId": "a2bf9677-c916-4cc9-835a-12915f453dec"
      },
      "execution_count": null,
      "outputs": [
        {
          "output_type": "stream",
          "name": "stdout",
          "text": [
            "List 1: [1, 2, 3, 4]\n",
            "List 2: ['a', 'b', 'c', 'd']\n"
          ]
        }
      ]
    },
    {
      "cell_type": "markdown",
      "source": [
        "Q 46 Write a Python program to convert a list of tuples into a dictionary."
      ],
      "metadata": {
        "id": "hZ65EQkVa0Lo"
      }
    },
    {
      "cell_type": "code",
      "source": [
        "def convert_to_dict(tuple_list):\n",
        "    return dict(tuple_list)\n",
        "\n",
        "tuple_list = [(1, 'apple'), (2, 'banana'), (3, 'cherry')]\n",
        "result_dict = convert_to_dict(tuple_list)\n",
        "print(result_dict)\n"
      ],
      "metadata": {
        "colab": {
          "base_uri": "https://localhost:8080/"
        },
        "id": "nlNInRfDa352",
        "outputId": "fc6fb316-e24c-45ea-c58d-9335d909e903"
      },
      "execution_count": null,
      "outputs": [
        {
          "output_type": "stream",
          "name": "stdout",
          "text": [
            "{1: 'apple', 2: 'banana', 3: 'cherry'}\n"
          ]
        }
      ]
    },
    {
      "cell_type": "markdown",
      "source": [
        "Q 47 How will you create a dictionary using tuples in python?"
      ],
      "metadata": {
        "id": "T_cJcTdVbUxW"
      }
    },
    {
      "cell_type": "code",
      "source": [
        "# List of tuples (each tuple contains a key-value pair)\n",
        "tuple_list = [(1, 'apple'), (2, 'banana'), (3, 'cherry')]\n",
        "my_dict = dict(tuple_list)\n",
        "\n",
        "print(my_dict)\n"
      ],
      "metadata": {
        "colab": {
          "base_uri": "https://localhost:8080/"
        },
        "id": "kugvvDb-bYG2",
        "outputId": "a4868d00-98db-4d81-8c95-4ccaa840cd97"
      },
      "execution_count": null,
      "outputs": [
        {
          "output_type": "stream",
          "name": "stdout",
          "text": [
            "{1: 'apple', 2: 'banana', 3: 'cherry'}\n"
          ]
        }
      ]
    },
    {
      "cell_type": "markdown",
      "source": [
        "Q 48 Write a Python script to sort (ascending and descending) a\n",
        "dictionary by value."
      ],
      "metadata": {
        "id": "4O2vLNppblug"
      }
    },
    {
      "cell_type": "code",
      "source": [
        "my_dict = {'a': 3, 'b': 1, 'c': 2}\n",
        "\n",
        "# Ascending order\n",
        "asc = dict(sorted(my_dict.items(), key=lambda x: x[1]))\n",
        "print(\"Ascending:\", asc)\n",
        "\n",
        "# Descending order\n",
        "desc = dict(sorted(my_dict.items(), key=lambda x: x[1], reverse=True))\n",
        "print(\"Descending:\", desc)\n"
      ],
      "metadata": {
        "colab": {
          "base_uri": "https://localhost:8080/"
        },
        "id": "CbmFEU6nbo3G",
        "outputId": "05b1a782-38be-4242-a52d-acf3decb9941"
      },
      "execution_count": null,
      "outputs": [
        {
          "output_type": "stream",
          "name": "stdout",
          "text": [
            "Ascending: {'b': 1, 'c': 2, 'a': 3}\n",
            "Descending: {'a': 3, 'c': 2, 'b': 1}\n"
          ]
        }
      ]
    },
    {
      "cell_type": "markdown",
      "source": [
        "Q 49 Write a Python script to concatenate following dictionaries to create\n",
        "a new one"
      ],
      "metadata": {
        "id": "eQ3KMFHvcJan"
      }
    },
    {
      "cell_type": "code",
      "source": [
        "dict1 = {1: \"apple\", 2: \"banana\"}\n",
        "dict2 = {3: \"cherry\", 4: \"date\"}\n",
        "dict3 = {5: \"elderberry\", 6: \"fig\"}\n",
        "\n",
        "\n",
        "concatenated_dict = {}\n",
        "for d in (dict1, dict2, dict3):\n",
        "    concatenated_dict.update(d)\n",
        "\n",
        "print(\"Concatenated Dictionary:\")\n",
        "print(concatenated_dict)"
      ],
      "metadata": {
        "colab": {
          "base_uri": "https://localhost:8080/"
        },
        "id": "Z45bfbwCcMmn",
        "outputId": "4fdc79ff-1a3e-4b43-cda0-51d1ebeeacca"
      },
      "execution_count": null,
      "outputs": [
        {
          "output_type": "stream",
          "name": "stdout",
          "text": [
            "Concatenated Dictionary:\n",
            "{1: 'apple', 2: 'banana', 3: 'cherry', 4: 'date', 5: 'elderberry', 6: 'fig'}\n"
          ]
        }
      ]
    },
    {
      "cell_type": "markdown",
      "source": [
        "Q 50 Write a Python script to check if a given key already exists in a\n",
        "dictionary."
      ],
      "metadata": {
        "id": "qqtKuf3ucjWm"
      }
    },
    {
      "cell_type": "code",
      "source": [
        "my_dict = {1: \"apple\", 2: \"banana\", 3: \"cherry\"}\n",
        "\n",
        "def check_key_exists(key, dictionary):\n",
        "    if key in dictionary:\n",
        "        print(f\"Key {key} exists in the dictionary.\")\n",
        "    else:\n",
        "        print(f\"Key {key} does not exist in the dictionary.\")\n",
        "\n",
        "key_to_check = 2\n",
        "check_key_exists(key_to_check, my_dict)\n"
      ],
      "metadata": {
        "colab": {
          "base_uri": "https://localhost:8080/"
        },
        "id": "1pL4rSAJcnDH",
        "outputId": "5a9e188f-7fa4-4334-a81b-6171eab3539e"
      },
      "execution_count": null,
      "outputs": [
        {
          "output_type": "stream",
          "name": "stdout",
          "text": [
            "Key 2 exists in the dictionary.\n"
          ]
        }
      ]
    },
    {
      "cell_type": "markdown",
      "source": [
        "Q 51 How Do You Traverse Through a Dictionary Object in Python?"
      ],
      "metadata": {
        "id": "RlFOWkDBdZXk"
      }
    },
    {
      "cell_type": "code",
      "source": [
        "my_dict = {'a': 1, 'b': 2, 'c': 3}\n",
        "\n",
        "for key in my_dict:\n",
        "    print(key)\n"
      ],
      "metadata": {
        "colab": {
          "base_uri": "https://localhost:8080/"
        },
        "id": "yRZZp9Nudcy9",
        "outputId": "e24519c9-38d8-4b7c-ed7c-3ec3c71ced38"
      },
      "execution_count": null,
      "outputs": [
        {
          "output_type": "stream",
          "name": "stdout",
          "text": [
            "a\n",
            "b\n",
            "c\n"
          ]
        }
      ]
    },
    {
      "cell_type": "markdown",
      "source": [
        "Q 52 How Do You Check the Presence of a Key in A Dictionary?"
      ],
      "metadata": {
        "id": "MjgVzgacdobM"
      }
    },
    {
      "cell_type": "code",
      "source": [
        "my_dict = {'a': 1, 'b': 2, 'c': 3}\n",
        "\n",
        "if 'a' in my_dict:\n",
        "    print(\"Key 'a' is present\")\n",
        "else:\n",
        "    print(\"Key 'a' is not present\")\n"
      ],
      "metadata": {
        "colab": {
          "base_uri": "https://localhost:8080/"
        },
        "id": "C5IFjqDpdsn0",
        "outputId": "d1a8b802-cfcd-405a-a1e5-ed38f24f83c4"
      },
      "execution_count": null,
      "outputs": [
        {
          "output_type": "stream",
          "name": "stdout",
          "text": [
            "Key 'a' is present\n"
          ]
        }
      ]
    },
    {
      "cell_type": "markdown",
      "source": [
        "Q 53 Write a Python script to print a dictionary where the keys are\n",
        "numbers between 1 and 15."
      ],
      "metadata": {
        "id": "QlYcnXrrd8Ot"
      }
    },
    {
      "cell_type": "code",
      "source": [
        "my_dict = {}\n",
        "\n",
        "for num in range(1, 16):\n",
        "    my_dict[num] = num ** 2\n",
        "print(my_dict)\n"
      ],
      "metadata": {
        "colab": {
          "base_uri": "https://localhost:8080/"
        },
        "id": "giwkC-rVeBVE",
        "outputId": "af983029-58ce-4e86-9855-b6ca7afaed0f"
      },
      "execution_count": null,
      "outputs": [
        {
          "output_type": "stream",
          "name": "stdout",
          "text": [
            "{1: 1, 2: 4, 3: 9, 4: 16, 5: 25, 6: 36, 7: 49, 8: 64, 9: 81, 10: 100, 11: 121, 12: 144, 13: 169, 14: 196, 15: 225}\n"
          ]
        }
      ]
    },
    {
      "cell_type": "markdown",
      "source": [
        "Q 54 Write a Python program to check multiple keys exists in a dictionary"
      ],
      "metadata": {
        "id": "A9pOk58ZeVRN"
      }
    },
    {
      "cell_type": "code",
      "source": [
        "def check_keys_exist(dictionary, keys):\n",
        "    return all(key in dictionary for key in keys)\n",
        "\n",
        "my_dict = {'a': 1, 'b': 2, 'c': 3, 'd': 4}\n",
        "\n",
        "keys_to_check = ['a', 'b', 'e']\n",
        "\n",
        "if check_keys_exist(my_dict, keys_to_check):\n",
        "    print(\"All keys exist in the dictionary\")\n",
        "else:\n",
        "    print(\"Not all keys exist in the dictionary\")\n"
      ],
      "metadata": {
        "colab": {
          "base_uri": "https://localhost:8080/"
        },
        "id": "d8-sONQGeXwk",
        "outputId": "96da8e87-f2fb-4350-8b55-c3d7deab9d7a"
      },
      "execution_count": null,
      "outputs": [
        {
          "output_type": "stream",
          "name": "stdout",
          "text": [
            "Not all keys exist in the dictionary\n"
          ]
        }
      ]
    },
    {
      "cell_type": "markdown",
      "source": [
        "Q 55 Write a Python script to merge two Python dictionaries\n"
      ],
      "metadata": {
        "id": "6OD8ADZQetv8"
      }
    },
    {
      "cell_type": "code",
      "source": [
        "dict1 = {'a': 1, 'b': 2}\n",
        "dict2 = {'c': 3, 'd': 4}\n",
        "\n",
        "dict1.update(dict2)\n",
        "\n",
        "print(\"Merged dictionary:\", dict1)\n"
      ],
      "metadata": {
        "colab": {
          "base_uri": "https://localhost:8080/"
        },
        "id": "IPS9EYlYextE",
        "outputId": "564d6ff2-fdc1-46ff-e7f7-16501565ee08"
      },
      "execution_count": null,
      "outputs": [
        {
          "output_type": "stream",
          "name": "stdout",
          "text": [
            "Merged dictionary: {'a': 1, 'b': 2, 'c': 3, 'd': 4}\n"
          ]
        }
      ]
    },
    {
      "cell_type": "markdown",
      "source": [
        "Q 56 Write a Python program to map two lists into a dictionary\n",
        "Sample output: Counter ({'a': 400, 'b': 400,’d’: 400, 'c': 300})"
      ],
      "metadata": {
        "id": "_oYFL3Lpe6_8"
      }
    },
    {
      "cell_type": "code",
      "source": [
        "keys = ['a', 'b', 'c', 'd']\n",
        "values = [400, 400, 300, 400]\n",
        "mapped_dict = dict(zip(keys, values))\n",
        "\n",
        "print(\"Counter (\", mapped_dict, \")\")\n"
      ],
      "metadata": {
        "colab": {
          "base_uri": "https://localhost:8080/"
        },
        "id": "6ot7_jfye_JM",
        "outputId": "b2c61547-2860-4c73-cdde-483f9d3ddfd5"
      },
      "execution_count": null,
      "outputs": [
        {
          "output_type": "stream",
          "name": "stdout",
          "text": [
            "Counter ( {'a': 400, 'b': 400, 'c': 300, 'd': 400} )\n"
          ]
        }
      ]
    },
    {
      "cell_type": "markdown",
      "source": [
        "Q 57 Write a Python program to find the highest 3 values in a dictionary\n"
      ],
      "metadata": {
        "id": "c0IWiT6EfKt2"
      }
    },
    {
      "cell_type": "code",
      "source": [
        "my_dict = {'a': 10, 'b': 5, 'c': 15, 'd': 20, 'e': 8}\n",
        "\n",
        "sorted_values = sorted(my_dict.values(), reverse=True)\n",
        "\n",
        "top_3_values = sorted_values[:3]\n",
        "\n",
        "top_3_keys = [key for key, value in my_dict.items() if value in top_3_values]\n",
        "\n",
        "print(\"Highest 3 values:\", top_3_values)\n",
        "print(\"Keys corresponding to the highest 3 values:\", top_3_keys)\n"
      ],
      "metadata": {
        "colab": {
          "base_uri": "https://localhost:8080/"
        },
        "id": "ynCCL6vFfN7E",
        "outputId": "710a85e3-853e-4d3a-c6c4-cd078460c055"
      },
      "execution_count": null,
      "outputs": [
        {
          "output_type": "stream",
          "name": "stdout",
          "text": [
            "Highest 3 values: [20, 15, 10]\n",
            "Keys corresponding to the highest 3 values: ['a', 'c', 'd']\n"
          ]
        }
      ]
    },
    {
      "cell_type": "markdown",
      "source": [
        "Q 58 Write a Python program to combine values in python list of dictionaries.\n",
        "Sample data: [{'item': 'item1', 'amount': 400}, {'item': 'item2', 'amount':\n",
        "300}, o {'item': 'item1', 'amount': 750}]\n",
        "Expected Output:\n",
        "• Counter ({'item1': 1150, 'item2': 300})"
      ],
      "metadata": {
        "id": "kaCHrfeGfeZ2"
      }
    },
    {
      "cell_type": "code",
      "source": [
        "from collections import Counter\n",
        "data = [{'item': 'item1', 'amount': 400},\n",
        "        {'item': 'item2', 'amount': 300},\n",
        "        {'item': 'item1', 'amount': 750}]\n",
        "result = Counter()\n",
        "\n",
        "for entry in data:\n",
        "    result[entry['item']] += entry['amount']\n",
        "print(\"Counter (\", result, \")\")\n"
      ],
      "metadata": {
        "colab": {
          "base_uri": "https://localhost:8080/"
        },
        "id": "kScYxbuvflpV",
        "outputId": "ad0f53ef-5cd5-4c93-986d-7190402daf2a"
      },
      "execution_count": null,
      "outputs": [
        {
          "output_type": "stream",
          "name": "stdout",
          "text": [
            "Counter ( Counter({'item1': 1150, 'item2': 300}) )\n"
          ]
        }
      ]
    },
    {
      "cell_type": "markdown",
      "source": [
        "Q 59 Write a Python program to create a dictionary from a string.\n",
        "Note: Track the count of the letters from the string.\n"
      ],
      "metadata": {
        "id": "Q83Bmm40f1Sf"
      }
    },
    {
      "cell_type": "code",
      "source": [
        "def count_letters(string):\n",
        "    letter_count = {}\n",
        "\n",
        "    for char in string:\n",
        "        if char.isalpha():\n",
        "            char = char.lower()\n",
        "            letter_count[char] = letter_count.get(char, 0) + 1\n",
        "    return letter_count\n",
        "input_string = \"Hello World\"\n",
        "\n",
        "result = count_letters(input_string)\n",
        "print(result)\n"
      ],
      "metadata": {
        "colab": {
          "base_uri": "https://localhost:8080/"
        },
        "id": "6m_CVF6if50t",
        "outputId": "032f1c3e-900a-4672-f051-10c4b1d3b64c"
      },
      "execution_count": null,
      "outputs": [
        {
          "output_type": "stream",
          "name": "stdout",
          "text": [
            "{'h': 1, 'e': 1, 'l': 3, 'o': 2, 'w': 1, 'r': 1, 'd': 1}\n"
          ]
        }
      ]
    },
    {
      "cell_type": "markdown",
      "source": [
        "Q 60 Sample string:\n",
        " 'w3resource' Expected output:\n",
        "• {'3': 1,’s’: 1, 'r': 2, 'u': 1, 'w': 1, 'c': 1, 'e': 2, 'o': 1}"
      ],
      "metadata": {
        "id": "i6CniFZkgMAE"
      }
    },
    {
      "cell_type": "code",
      "source": [
        "def count_characters(string):\n",
        "    char_count = {}\n",
        "\n",
        "    for char in string:\n",
        "        char_count[char] = char_count.get(char, 0) + 1\n",
        "\n",
        "    return char_count\n",
        "input_string = 'w3resource'\n",
        "result = count_characters(input_string)\n",
        "print(result)\n"
      ],
      "metadata": {
        "colab": {
          "base_uri": "https://localhost:8080/"
        },
        "id": "I0VcuphMgQR1",
        "outputId": "ebd6f352-cefa-4840-a3e7-10bad17819e5"
      },
      "execution_count": null,
      "outputs": [
        {
          "output_type": "stream",
          "name": "stdout",
          "text": [
            "{'w': 1, '3': 1, 'r': 2, 'e': 2, 's': 1, 'o': 1, 'u': 1, 'c': 1}\n"
          ]
        }
      ]
    },
    {
      "cell_type": "markdown",
      "source": [
        "Q 61 Write a Python function to calculate the factorial of a number (a\n",
        "nonnegative integer)"
      ],
      "metadata": {
        "id": "t7ImVZ22ggIt"
      }
    },
    {
      "cell_type": "code",
      "source": [
        "def factorial(n):\n",
        "    if n == 0:\n",
        "        return 1\n",
        "    else:\n",
        "        return n * factorial(n - 1)\n",
        "\n",
        "number = 5\n",
        "result = factorial(number)\n",
        "print(f\"The factorial of {number} is {result}\")"
      ],
      "metadata": {
        "colab": {
          "base_uri": "https://localhost:8080/"
        },
        "id": "dOWdq6F3hXZ-",
        "outputId": "5b5f1a4f-9fac-4436-9d89-c8d0ca1a9262"
      },
      "execution_count": null,
      "outputs": [
        {
          "output_type": "stream",
          "name": "stdout",
          "text": [
            "The factorial of 5 is 120\n"
          ]
        }
      ]
    },
    {
      "cell_type": "markdown",
      "source": [
        "Q 62 Write a Python function to check whether a number is in a given range"
      ],
      "metadata": {
        "id": "ZAUtg8dIhuJ9"
      }
    },
    {
      "cell_type": "code",
      "source": [
        "def is_in_range(n, start, end):\n",
        "    return start <= n <= end\n",
        "\n",
        "# Example usage\n",
        "num = int(input(\"Enter a number: \"))\n",
        "print(\"In range\" if is_in_range(num, 10, 50) else \"Out of range\")\n"
      ],
      "metadata": {
        "colab": {
          "base_uri": "https://localhost:8080/"
        },
        "id": "Pvc1bZFNvjYK",
        "outputId": "eba89d69-5028-4bd0-aecb-1b4ecfc4a549"
      },
      "execution_count": 20,
      "outputs": [
        {
          "output_type": "stream",
          "name": "stdout",
          "text": [
            "Enter a number: 79\n",
            "Out of range\n"
          ]
        }
      ]
    },
    {
      "cell_type": "markdown",
      "source": [
        "Q 63 Write a Python function to check whether a number is perfect or not"
      ],
      "metadata": {
        "id": "bNIF5mNOiVvQ"
      }
    },
    {
      "cell_type": "code",
      "source": [
        "def is_perfect(n):\n",
        "    return n == sum(i for i in range(1, n) if n % i == 0)\n",
        "\n",
        "num = int(input(\"Enter a number: \"))\n",
        "print(\"Perfect Number\" if is_perfect(num) else \"Not a Perfect Number\")"
      ],
      "metadata": {
        "colab": {
          "base_uri": "https://localhost:8080/"
        },
        "id": "y0w2ck1yu2-p",
        "outputId": "a1076358-b5a6-4381-957e-67a91a76cc29"
      },
      "execution_count": 16,
      "outputs": [
        {
          "output_type": "stream",
          "name": "stdout",
          "text": [
            "Enter a number: 6\n",
            "Perfect Number\n"
          ]
        }
      ]
    },
    {
      "cell_type": "markdown",
      "source": [
        "Q 64 Write a Python function that checks whether a passed string is\n",
        "palindrome or not\n"
      ],
      "metadata": {
        "id": "-y3t29Lainlu"
      }
    },
    {
      "cell_type": "code",
      "source": [
        "def is_palindrome(s):\n",
        "    return s == s[::-1]\n",
        "\n",
        "word = input(\"Enter a word: \")\n",
        "print(\"Palindrome\" if is_palindrome(word) else \"Not a palindrome\")\n"
      ],
      "metadata": {
        "colab": {
          "base_uri": "https://localhost:8080/"
        },
        "id": "5p3lhAPjugBB",
        "outputId": "7ac2edf4-1ab9-4780-8492-14e6193b9476"
      },
      "execution_count": 11,
      "outputs": [
        {
          "output_type": "stream",
          "name": "stdout",
          "text": [
            "Enter a word: ajdkka\n",
            "Not a palindrome\n"
          ]
        }
      ]
    },
    {
      "cell_type": "markdown",
      "source": [
        "Q 65 How Many Basic Types of Functions Are Available in Python?\n",
        "\n",
        "  print ()\n",
        "\n",
        "   len ()\n",
        "\n",
        "   abs ()\n",
        "\n",
        "   sum ()\n",
        "  etc.\n"
      ],
      "metadata": {
        "id": "d9VaG5xxh1VJ"
      }
    },
    {
      "cell_type": "markdown",
      "source": [
        "Q 66 How can you pick a random item from a list or tuple?"
      ],
      "metadata": {
        "id": "GAFGTJl-icGy"
      }
    },
    {
      "cell_type": "code",
      "source": [
        "import random\n",
        "\n",
        "fruits = [\"Apple\", \"Banana\", \"Cherry\", \"Mango\"]\n",
        "random_fruit = random.choice(fruits)\n",
        "\n",
        "print(random_fruit)\n",
        "\n",
        "colors = (\"Red\", \"Green\", \"Blue\", \"Yellow\")\n",
        "random_color = random.choice(colors)\n",
        "\n",
        "print(random_color)\n"
      ],
      "metadata": {
        "colab": {
          "base_uri": "https://localhost:8080/"
        },
        "id": "6YduDOfSigfC",
        "outputId": "81b7a038-1b04-4926-ae9e-c58968faa52c"
      },
      "execution_count": 9,
      "outputs": [
        {
          "output_type": "stream",
          "name": "stdout",
          "text": [
            "Cherry\n",
            "Blue\n"
          ]
        }
      ]
    },
    {
      "cell_type": "markdown",
      "source": [
        "Q 67 How can you pick a random item from a range?\n",
        "\n",
        "You can use Python's random.choice() or random.randrange() to select a random number from a range.\n"
      ],
      "metadata": {
        "id": "Jlwxopq-jKe5"
      }
    },
    {
      "cell_type": "markdown",
      "source": [
        "Q 68 How can you get a random number in python?\n",
        "\n",
        "Python has a built-in module called random that helps generate random numbers."
      ],
      "metadata": {
        "id": "TTPaQ809jiL6"
      }
    },
    {
      "cell_type": "markdown",
      "source": [
        "Q 69 How will you set the starting value in generating random numbers?\n",
        "\n",
        "   In Python, you can set the starting value for generating random numbers by using the random.seed() function."
      ],
      "metadata": {
        "id": "BN0TKO_YkByA"
      }
    },
    {
      "cell_type": "markdown",
      "source": [
        "Q 70 How will you randomize the items of a list in place?\n"
      ],
      "metadata": {
        "id": "geRk99_QkVMy"
      }
    },
    {
      "cell_type": "code",
      "source": [
        "my_list = [1, 2, 3, 4, 5]\n",
        "\n",
        "random.shuffle(my_list)\n",
        "\n",
        "print(f\"Shuffled list: {my_list}\")\n"
      ],
      "metadata": {
        "colab": {
          "base_uri": "https://localhost:8080/"
        },
        "id": "4JAlJURukZ7j",
        "outputId": "975b47c3-0272-4708-c257-8223db7c6246"
      },
      "execution_count": null,
      "outputs": [
        {
          "output_type": "stream",
          "name": "stdout",
          "text": [
            "Shuffled list: [2, 5, 8, 3, 1]\n"
          ]
        }
      ]
    },
    {
      "cell_type": "markdown",
      "source": [
        "Q 71 What is File function in python? What are keywords to create\n",
        "and write file.\n"
      ],
      "metadata": {
        "id": "6guh1sE8k0Lb"
      }
    },
    {
      "cell_type": "code",
      "source": [
        "# In Python, file handling is used to create, read, write, and manipulate files.\n",
        "\n",
        "# Opens a file for writing.\n",
        "# If the file does not exist, it creates a new file.\n",
        "# If the file exists, it overwrites the file."
      ],
      "metadata": {
        "id": "Z-45Rr6bk7nu"
      },
      "execution_count": null,
      "outputs": []
    },
    {
      "cell_type": "markdown",
      "source": [
        "Q 72 Write a Python program to read an entire text file.\n"
      ],
      "metadata": {
        "id": "52yLz428lsH6"
      }
    },
    {
      "cell_type": "code",
      "source": [
        "def read_file(file_name):\n",
        "    try:\n",
        "\n",
        "        with open(file_name, 'r') as file:\n",
        "\n",
        "            content = file.read()\n",
        "            return content\n",
        "    except FileNotFoundError:\n",
        "        return \"The file does not exist.\"\n",
        "\n",
        "file_name = 'example.txt'\n",
        "\n",
        "file_content = read_file(file_name)\n",
        "print(file_content)\n"
      ],
      "metadata": {
        "colab": {
          "base_uri": "https://localhost:8080/"
        },
        "id": "0J2sG1mdlyv7",
        "outputId": "9f4ac14c-1d26-4c25-a5cd-47b1bdc28dda"
      },
      "execution_count": null,
      "outputs": [
        {
          "output_type": "stream",
          "name": "stdout",
          "text": [
            "The file does not exist.\n"
          ]
        }
      ]
    },
    {
      "cell_type": "markdown",
      "source": [
        "Q 73 Write a Python program to append text to a file and display the text."
      ],
      "metadata": {
        "id": "0O-IXL15mDsj"
      }
    },
    {
      "cell_type": "code",
      "source": [
        "def append_and_display(file_name, text_to_append):\n",
        "    try:\n",
        "\n",
        "        with open(file_name, 'a') as file:\n",
        "            file.write(text_to_append + '\\n')\n",
        "\n",
        "        with open(file_name, 'r') as file:\n",
        "            content = file.read()\n",
        "            return content\n",
        "    except FileNotFoundError:\n",
        "        return \"The file does not exist.\"\n",
        "\n",
        "text_to_append = \"This is the appended text.\"\n",
        "\n",
        "updated_content = append_and_display(file_name, text_to_append)\n",
        "print(updated_content)\n"
      ],
      "metadata": {
        "colab": {
          "base_uri": "https://localhost:8080/"
        },
        "id": "cfMp6J-XmIOD",
        "outputId": "7cb10ad4-fa80-4b80-abca-d4b414fe35e0"
      },
      "execution_count": null,
      "outputs": [
        {
          "output_type": "stream",
          "name": "stdout",
          "text": [
            "This is the appended text.\n",
            "This is the appended text.\n",
            "This is the appended text.\n",
            "\n"
          ]
        }
      ]
    },
    {
      "cell_type": "markdown",
      "source": [
        "Q 74 Write a Python program to read first n lines of a file"
      ],
      "metadata": {
        "id": "ZDoR-wcBnhLL"
      }
    },
    {
      "cell_type": "code",
      "source": [
        "def read_first_n_lines(file_path, n):\n",
        "    try:\n",
        "        with open(file_path, 'r') as file:\n",
        "            for line in itertools.islice(file, n):\n",
        "                print(line.strip())\n",
        "    except FileNotFoundError:\n",
        "        print(f\"The file '{file_path}' does not exist.\")\n",
        "    except Exception as e:\n",
        "        print(f\"An error occurred: {e}\")\n",
        "\n",
        "file_path = 'example.txt'\n",
        "n = 5\n",
        "read_first_n_lines(file_path, n)\n",
        "\n",
        "\n",
        "\n"
      ],
      "metadata": {
        "colab": {
          "base_uri": "https://localhost:8080/"
        },
        "id": "x7zLbJGrjhf-",
        "outputId": "fc17c4c2-0488-454f-9c56-0bc4ad4fda13"
      },
      "execution_count": null,
      "outputs": [
        {
          "output_type": "stream",
          "name": "stdout",
          "text": [
            "The file 'example.txt' does not exist.\n"
          ]
        }
      ]
    },
    {
      "cell_type": "markdown",
      "source": [
        "Q 75 Write a Python program to read last n lines of a file.\n"
      ],
      "metadata": {
        "id": "nru8NLhJlKyx"
      }
    },
    {
      "cell_type": "code",
      "source": [
        "def read_last_n_lines(file_path, n):\n",
        "    try:\n",
        "        with open(file_path, 'r') as file:\n",
        "            for line in last_lines:\n",
        "                print(line.strip())\n",
        "    except FileNotFoundError:\n",
        "        print(f\"The file '{file_path}' does not exist.\")\n",
        "\n",
        "read_last_n_lines(file_path, n)"
      ],
      "metadata": {
        "colab": {
          "base_uri": "https://localhost:8080/"
        },
        "id": "q09cS7vblOsW",
        "outputId": "96d7c297-c5c7-4dd0-88de-c3d65bd9160c"
      },
      "execution_count": null,
      "outputs": [
        {
          "output_type": "stream",
          "name": "stdout",
          "text": [
            "The file 'example.txt' does not exist.\n"
          ]
        }
      ]
    },
    {
      "cell_type": "markdown",
      "source": [
        "Q 76 Write a Python program to read a file line by line and store it into a list\n"
      ],
      "metadata": {
        "id": "M3VQQtt8m5rz"
      }
    },
    {
      "cell_type": "code",
      "source": [
        "def file_to_list(file_path):\n",
        "    try:\n",
        "        with open(file_path, 'r') as file:\n",
        "            lines = [line.strip() for line in file]\n",
        "        return lines\n",
        "    except FileNotFoundError:\n",
        "        print(f\"The file '{file_path}' does not exist.\")\n",
        "        return []\n",
        "    except Exception as e:\n",
        "        print(f\"An error occurred: {e}\")\n",
        "        return []\n",
        "\n",
        "file_path = 'example.txt'\n",
        "lines = file_to_list(file_path)\n",
        "print(lines)\n"
      ],
      "metadata": {
        "colab": {
          "base_uri": "https://localhost:8080/"
        },
        "id": "BQjddgVlm9Wd",
        "outputId": "a317050c-a3f1-4356-ba03-810276a593d8"
      },
      "execution_count": null,
      "outputs": [
        {
          "output_type": "stream",
          "name": "stdout",
          "text": [
            "The file 'example.txt' does not exist.\n",
            "[]\n"
          ]
        }
      ]
    },
    {
      "cell_type": "markdown",
      "source": [
        "Q 77 Write a Python program to read a file line by line store it into a variable.\n"
      ],
      "metadata": {
        "id": "yi1TPWEunMAH"
      }
    },
    {
      "cell_type": "code",
      "source": [
        "def file_to_variable(file_path):\n",
        "    try:\n",
        "        with open(file_path, 'r') as file:\n",
        "            content = file.readlines()\n",
        "        return content\n",
        "    except FileNotFoundError:\n",
        "        print(f\"The file '{file_path}' does not exist.\")\n",
        "        return \"\"\n",
        "\n",
        "file_path = 'example.txt'\n",
        "content = file_to_variable(file_path)\n",
        "print(content)\n"
      ],
      "metadata": {
        "colab": {
          "base_uri": "https://localhost:8080/"
        },
        "id": "koBtxZmBnPvO",
        "outputId": "87813573-d741-4e45-d62d-4a682b8305d6"
      },
      "execution_count": 4,
      "outputs": [
        {
          "output_type": "stream",
          "name": "stdout",
          "text": [
            "The file 'example.txt' does not exist.\n",
            "\n"
          ]
        }
      ]
    },
    {
      "cell_type": "markdown",
      "source": [
        "Q 78 Write a python program to find the longest words."
      ],
      "metadata": {
        "id": "utiOOtvfnhMV"
      }
    },
    {
      "cell_type": "code",
      "source": [
        "def find_longest_words(file_path):\n",
        "    try:\n",
        "        with open(file_path, 'r') as file:\n",
        "            words = file.read().split()\n",
        "\n",
        "        return longest_words\n",
        "    except FileNotFoundError:\n",
        "        print(f\"The file '{file_path}' does not exist.\")\n",
        "        return []\n",
        "    except Exception as e:\n",
        "        print(f\"An error occurred: {e}\")\n",
        "        return []\n",
        "file_path = 'example.txt'\n",
        "longest_words = find_longest_words(file_path)\n",
        "print(\"Longest words:\", longest_words)\n",
        "\n"
      ],
      "metadata": {
        "colab": {
          "base_uri": "https://localhost:8080/"
        },
        "id": "mxQe5t1snkRm",
        "outputId": "f310b36b-f7f4-4eab-c09b-e0a980032b3b"
      },
      "execution_count": null,
      "outputs": [
        {
          "output_type": "stream",
          "name": "stdout",
          "text": [
            "The file 'example.txt' does not exist.\n",
            "Longest words: []\n"
          ]
        }
      ]
    },
    {
      "cell_type": "markdown",
      "source": [
        "Q 79 Write a Python program to count the number of lines in a text file."
      ],
      "metadata": {
        "id": "WESWzdoGoDyQ"
      }
    },
    {
      "cell_type": "code",
      "source": [
        "def count_lines_in_file(file_path):\n",
        "    try:\n",
        "        with open(file_path, 'r') as file:\n",
        "            line_count = sum(1 for _ in file)\n",
        "        return line_count\n",
        "    except FileNotFoundError:\n",
        "        print(f\"The file '{file_path}' does not exist.\")\n",
        "        return 0\n",
        "    except Exception as e:\n",
        "        print(f\"An error occurred: {e}\")\n",
        "        return 0\n",
        "file_path = 'example.txt'\n",
        "line_count = count_lines_in_file(file_path)\n",
        "print(f\"Number of lines: {line_count}\")\n"
      ],
      "metadata": {
        "colab": {
          "base_uri": "https://localhost:8080/"
        },
        "id": "6PpD266soGfR",
        "outputId": "2f945206-0ad7-43ca-d3e6-8ef6fcd8282d"
      },
      "execution_count": null,
      "outputs": [
        {
          "output_type": "stream",
          "name": "stdout",
          "text": [
            "The file 'example.txt' does not exist.\n",
            "Number of lines: 0\n"
          ]
        }
      ]
    },
    {
      "cell_type": "markdown",
      "source": [
        "Q 80 Write a Python program to count the frequency of words in a file.\n"
      ],
      "metadata": {
        "id": "4X12TldbodBZ"
      }
    },
    {
      "cell_type": "code",
      "source": [
        "from collections import Counter\n",
        "import re\n",
        "\n",
        "def count_word_frequency(file_path):\n",
        "    try:\n",
        "        with open(file_path, 'r') as file:\n",
        "            text = file.read().lower()\n",
        "            words = re.findall(r'\\b\\w+\\b', text)\n",
        "            word_count = Counter(words)\n",
        "        return word_count\n",
        "    except FileNotFoundError:\n",
        "        print(f\"The file '{file_path}' does not exist.\")\n",
        "        return {}\n",
        "    except Exception as e:\n",
        "        print(f\"An error occurred: {e}\")\n",
        "        return {}\n",
        "\n",
        "file_path = 'example.txt'\n",
        "word_frequency = count_word_frequency(file_path)\n",
        "print(\"Word frequencies:\", word_frequency)\n"
      ],
      "metadata": {
        "colab": {
          "base_uri": "https://localhost:8080/"
        },
        "id": "oWOfAlWGof_N",
        "outputId": "e5ed4b37-6926-41d5-db10-82b7dd9e03a1"
      },
      "execution_count": null,
      "outputs": [
        {
          "output_type": "stream",
          "name": "stdout",
          "text": [
            "The file 'example.txt' does not exist.\n",
            "Word frequencies: {}\n"
          ]
        }
      ]
    },
    {
      "cell_type": "markdown",
      "source": [
        "81. Write a Python program to write a list to a file.\n"
      ],
      "metadata": {
        "id": "YvB2YYVRi7Sd"
      }
    },
    {
      "cell_type": "code",
      "source": [
        "my_list = [\"Apple\", \"Banana\", \"Cherry\"]\n",
        "\n",
        "with open(\"fruits.txt\", \"w\") as file:\n",
        "    file.writelines(\"\\n\".join(my_list))\n",
        "\n",
        "print(\"List written to file successfully!\")\n"
      ],
      "metadata": {
        "colab": {
          "base_uri": "https://localhost:8080/"
        },
        "id": "Z6GVaNW2fKib",
        "outputId": "1423ff1b-dc05-44cf-8fab-71ef6a59e74c"
      },
      "execution_count": 1,
      "outputs": [
        {
          "output_type": "stream",
          "name": "stdout",
          "text": [
            "List written to file successfully!\n"
          ]
        }
      ]
    },
    {
      "cell_type": "markdown",
      "source": [
        ":Q 82 Write a Python program to copy the contents of a file to another file."
      ],
      "metadata": {
        "id": "nsjtfC1sph3t"
      }
    },
    {
      "cell_type": "code",
      "source": [
        "def copy_file(source_file, destination_file):\n",
        "    try:\n",
        "        with open(source_file, 'r') as src, open(destination_file, 'w') as dest:\n",
        "            for line in src:\n",
        "                dest.write(line)\n",
        "        print(f\"Contents copied from {source_file} to {destination_file}.\")\n",
        "    except FileNotFoundError:\n",
        "        print(f\"Error: {source_file} not found!\")\n",
        "\n",
        "# Example usage\n",
        "copy_file('source.txt', 'destination.txt')\n"
      ],
      "metadata": {
        "colab": {
          "base_uri": "https://localhost:8080/"
        },
        "id": "4d1P58_opm4O",
        "outputId": "144ae64d-7659-4394-e823-03748991dec6"
      },
      "execution_count": null,
      "outputs": [
        {
          "output_type": "stream",
          "name": "stdout",
          "text": [
            "Error: source.txt not found!\n"
          ]
        }
      ]
    },
    {
      "cell_type": "markdown",
      "source": [
        "Q 83 Explain Exception handling? What is an Error in Python?\n",
        "\n",
        "  Exception handling in Python is a mechanism that allows a programmer to gracefully handle runtime errors (exceptions) to avoid crashing the program and manage unexpected behaviors.\n",
        "\n",
        "\n",
        "   an error is a problem that arises during the execution of the program, causing the program to stop."
      ],
      "metadata": {
        "id": "s0X8Y_MPp6Ou"
      }
    },
    {
      "cell_type": "markdown",
      "source": [
        "Q 84 How many except statements can a try-except block have? Name\n",
        "Some built-in exception classes\n",
        "\n",
        "A try-except block can have multiple except statements to handle different exceptions.\n",
        "\n",
        "ValueError\n",
        "\n",
        "TypeError\n",
        "\n",
        "IndexError\n",
        "\n",
        "KeyError\n",
        "\n",
        "ZeroDivisionError\n",
        "\n",
        "FileNotFoundError"
      ],
      "metadata": {
        "id": "ZkBmaagbqRC_"
      }
    },
    {
      "cell_type": "markdown",
      "source": [
        "Q 85 When will the else part of try-except-else be executed?\n",
        "\n",
        "  the else block runs when the code inside the try block executes successfully without encountering any errors."
      ],
      "metadata": {
        "id": "bAERuzShrIN3"
      }
    },
    {
      "cell_type": "markdown",
      "source": [
        "Q 86 Can one block of except statements handle multiple exception?\n",
        "\n",
        " Yes, a single except block in Python can handle multiple exceptions by specifying a tuple of exception types. This is useful when you want to handle multiple exceptions in the same way, instead of writing separate except blocks for each exception."
      ],
      "metadata": {
        "id": "Dq9hqbFhrbYW"
      }
    },
    {
      "cell_type": "markdown",
      "source": [
        "Q 87 When is the finally block executed?\n",
        "\n",
        " The finally block in Python is always executed, regardless of whether an exception occurred in the try block or not."
      ],
      "metadata": {
        "id": "_VHgDUuGrojn"
      }
    },
    {
      "cell_type": "markdown",
      "source": [
        "Q 88 What happens when „1‟== 1 is executed?\n",
        "\n",
        " When the expression 1 == '1' is executed in Python, it evaluates to False because the == operator checks for value equality"
      ],
      "metadata": {
        "id": "EaqnzBzRr5Qv"
      }
    },
    {
      "cell_type": "markdown",
      "source": [
        "Q 89 How Do You Handle Exceptions with Try/Except/Finally in Python?\n",
        "Explain with coding snippets?\n",
        "\n",
        " # In Python, exceptions can be handled using the try-except-finally structure.\n",
        "try block: Contains the code that might raise an exception.\n",
        "\n",
        "except block: Handles specific exceptions raised in the try block. You can specify multiple exceptions or a general one.\n",
        "\n",
        "finally block: Contains code that will execute no matter what—whether an exception was raised or not. This is commonly used for cleanup tasks like closing files or network connections."
      ],
      "metadata": {
        "id": "YL-IdmcKsDCh"
      }
    },
    {
      "cell_type": "markdown",
      "source": [
        "Q 90 Write python program that user to enter only odd numbers, else\n",
        "will raise an exception."
      ],
      "metadata": {
        "id": "gc1zTadLsrCo"
      }
    },
    {
      "cell_type": "code",
      "source": [
        "try:\n",
        "    num = int(input(\"Enter an odd number: \"))\n",
        "    if num % 2 == 0:\n",
        "        raise ValueError(\"Only odd numbers are allowed!\")\n",
        "    print(\"Valid odd number:\", num)\n",
        "except ValueError as e:\n",
        "    print(\"Error:\", e)\n",
        "\n"
      ],
      "metadata": {
        "colab": {
          "base_uri": "https://localhost:8080/"
        },
        "id": "nwC1HcO3svQw",
        "outputId": "6b806970-9382-4f73-b6dc-0738ed06ee64"
      },
      "execution_count": 1,
      "outputs": [
        {
          "output_type": "stream",
          "name": "stdout",
          "text": [
            "Enter an odd number: 3\n",
            "Valid odd number: 3\n"
          ]
        }
      ]
    }
  ]
}