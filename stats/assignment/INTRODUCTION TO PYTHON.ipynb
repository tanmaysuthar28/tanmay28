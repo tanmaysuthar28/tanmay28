{
  "nbformat": 4,
  "nbformat_minor": 0,
  "metadata": {
    "colab": {
      "provenance": []
    },
    "kernelspec": {
      "name": "python3",
      "display_name": "Python 3"
    },
    "language_info": {
      "name": "python"
    }
  },
  "cells": [
    {
      "cell_type": "markdown",
      "source": [
        "Q 1 what are the types of applications?\n",
        "\n",
        " 1 web application\n",
        "\n",
        "\n",
        " 2 mobile application\n",
        "\n",
        " 3 desktop application\n",
        "\n",
        " 4 games and entertainment application\n",
        "\n",
        " 5 cloud based application\n"
      ],
      "metadata": {
        "id": "BiTwUME_I5Or"
      }
    },
    {
      "cell_type": "markdown",
      "source": [
        "Q 2 What is programing?\n",
        "\n",
        "    Programming is the process of designing, writing, testing, and maintaining a set of instructions known as code."
      ],
      "metadata": {
        "id": "3Hf_Q4zUJiyb"
      }
    },
    {
      "cell_type": "markdown",
      "source": [
        "Q 3  What is Python?\n",
        "      \n",
        "    Python is a high-level, interpreted programming language."
      ],
      "metadata": {
        "id": "yspaHHFtJ3lx"
      }
    },
    {
      "cell_type": "markdown",
      "source": [
        "Q 4 Write a Python program to check if a number is positive, negative or\n",
        "zero."
      ],
      "metadata": {
        "id": "x03N_cAMKR1N"
      }
    },
    {
      "cell_type": "code",
      "source": [
        "# Write a Python program to check if a number is positive, negative or zero\n",
        "\n",
        "num = float(input(\"Enter a number: \"))\n",
        "if num > 0:\n",
        "   print(\"Positive number\")\n",
        "elif num == 0:\n",
        "   print(\"Zero\")\n",
        "else:\n",
        "print(\"Negative number\")\n",
        "\n"
      ],
      "metadata": {
        "colab": {
          "base_uri": "https://localhost:8080/"
        },
        "id": "icZ4eKmmLFzb",
        "outputId": "d73d6c96-179c-491b-ef19-0120a65b173e"
      },
      "execution_count": null,
      "outputs": [
        {
          "output_type": "stream",
          "name": "stdout",
          "text": [
            "Enter a number: -89\n",
            "Negative number\n"
          ]
        }
      ]
    },
    {
      "cell_type": "markdown",
      "source": [
        "Q 5 Write a Python program to get the Factorial number of given numbers"
      ],
      "metadata": {
        "id": "Hn0uIAs9UFwh"
      }
    },
    {
      "cell_type": "code",
      "source": [
        "def factorial(n):\n",
        "    if n == 0 or n == 1:\n",
        "        return 1\n",
        "    else:\n",
        "        return n * factorial(n - 1)\n",
        "\n",
        "num = int(input(\"Enter a number to find its factorial: \"))\n",
        "\n",
        "if num < 0:\n",
        "    print(\"Factorial is not defined for negative numbers.\")\n",
        "else:\n",
        "    result = factorial(num)\n",
        "    print(f\"The factorial of {num} is {result}\")\n"
      ],
      "metadata": {
        "colab": {
          "base_uri": "https://localhost:8080/"
        },
        "id": "DD6mkvQ4U-ae",
        "outputId": "1bef1921-0c50-4b8e-9add-ec9bf2edcdc4"
      },
      "execution_count": null,
      "outputs": [
        {
          "output_type": "stream",
          "name": "stdout",
          "text": [
            "Enter a number to find its factorial: 12\n",
            "The factorial of 12 is 479001600\n"
          ]
        }
      ]
    },
    {
      "cell_type": "markdown",
      "source": [
        "Q 6 Write a Python program to get the Fibonacci series of given range."
      ],
      "metadata": {
        "id": "6-OjPCO5VZbS"
      }
    },
    {
      "cell_type": "code",
      "source": [
        "def fibonacci_series(n):\n",
        "    fib_series = []\n",
        "    a, b = 0, 1\n",
        "    for i in range(n):\n",
        "        fib_series.append(a)\n",
        "        a, b = b, a + b\n",
        "    return fib_series\n",
        "\n",
        "num = int(input(\"Enter the number of terms in the Fibonacci series: \"))\n",
        "\n",
        "if num <= 0:\n",
        "    print(\"Please enter a positive integer.\")\n",
        "else:\n",
        "    result = fibonacci_series(num)\n",
        "    print(f\"The Fibonacci series up to {num} terms is: {result}\")\n"
      ],
      "metadata": {
        "colab": {
          "base_uri": "https://localhost:8080/"
        },
        "id": "wfXRhxRWVlGc",
        "outputId": "5a1c891d-b9d6-46c2-beda-85e8cc850692"
      },
      "execution_count": null,
      "outputs": [
        {
          "output_type": "stream",
          "name": "stdout",
          "text": [
            "Enter the number of terms in the Fibonacci series: 7\n",
            "The Fibonacci series up to 7 terms is: [0, 1, 1, 2, 3, 5, 8]\n"
          ]
        }
      ]
    },
    {
      "cell_type": "markdown",
      "source": [
        "Q 7 How memory is managed in Python?\n",
        "\n",
        "    memory managment in python is automatically done by sytem known as memory managment or garbage collection."
      ],
      "metadata": {
        "id": "Shw8SppuWKtn"
      }
    },
    {
      "cell_type": "markdown",
      "source": [
        "Q 8 What is the purpose continuing statement in python?\n",
        "\n",
        "   The continue statement in Python is used to skip the current iteration of a loop (either for or while) and immediately jump to the next iteration."
      ],
      "metadata": {
        "id": "-Js-Soe8Wnx2"
      }
    },
    {
      "cell_type": "markdown",
      "source": [
        " Q 9 Write python program that swap two number with temp variable and without temp variable."
      ],
      "metadata": {
        "id": "RQ4vI62yXVem"
      }
    },
    {
      "cell_type": "code",
      "source": [
        "a = int(input(\"Enter the first number: \"))\n",
        "b = int(input(\"Enter the second number: \"))\n",
        "\n",
        "print(f\"Before swapping: a = {a}, b = {b}\")\n",
        "temp = a\n",
        "a = b\n",
        "b = temp\n",
        "\n",
        "print(f\"After swapping: a = {a}, b = {b}\")"
      ],
      "metadata": {
        "id": "wPdycyzEXYzd"
      },
      "execution_count": null,
      "outputs": []
    },
    {
      "cell_type": "markdown",
      "source": [
        "Q 10 Write a Python program to find whether a given number is even\n",
        "or odd, print out an appropriate message to the user."
      ],
      "metadata": {
        "id": "uNNOqck5a2lK"
      }
    },
    {
      "cell_type": "code",
      "source": [
        "def check_even_odd(number):\n",
        "    if number % 2 == 0:\n",
        "        print(f\"{number} is an even number.\")\n",
        "    else:\n",
        "        print(f\"{number} is an odd number.\")\n",
        "\n",
        "num = int(input(\"Enter a number: \"))\n",
        "check_even_odd(num)\n"
      ],
      "metadata": {
        "colab": {
          "base_uri": "https://localhost:8080/"
        },
        "id": "r-uKHSCJbpqT",
        "outputId": "7d62c1d7-0e0d-4679-949b-1015fe848451"
      },
      "execution_count": null,
      "outputs": [
        {
          "output_type": "stream",
          "name": "stdout",
          "text": [
            "Enter a number: 86\n",
            "86 is an even number.\n"
          ]
        }
      ]
    },
    {
      "cell_type": "markdown",
      "source": [
        "Q 11 Write a Python program to test whether a passed letter is a vowel\n",
        "or not."
      ],
      "metadata": {
        "id": "z3H3L6ktuIO3"
      }
    },
    {
      "cell_type": "code",
      "source": [
        "def check_vowel(letter):\n",
        "    vowels = 'aeiou'\n",
        "\n",
        "    if letter.lower() in vowels:\n",
        "        print(f\"{letter} is a vowel.\")\n",
        "    else:\n",
        "        print(f\"{letter} is not a vowel.\")\n",
        "\n",
        "letter = input(\"Enter a letter: \")\n",
        "\n",
        "if len(letter) == 1 and letter.isalpha():\n",
        "\n",
        "    check_vowel(letter)\n",
        "else:\n",
        "    print(\"Please enter a valid letter.\")\n"
      ],
      "metadata": {
        "colab": {
          "base_uri": "https://localhost:8080/"
        },
        "id": "7fY4rMWquLKw",
        "outputId": "068144dc-509c-4992-d700-015fd937c082"
      },
      "execution_count": null,
      "outputs": [
        {
          "output_type": "stream",
          "name": "stdout",
          "text": [
            "Enter a letter: U\n",
            "U is a vowel.\n"
          ]
        }
      ]
    },
    {
      "cell_type": "markdown",
      "source": [
        "Q 12 Write a Python program to sum of three given integers. However, if\n",
        "two values are equal sum will be zero."
      ],
      "metadata": {
        "id": "nHsrE_DXuz-P"
      }
    },
    {
      "cell_type": "code",
      "source": [
        "def sum_of_integers(a, b, c):\n",
        "    if a == b or b == c or a == c:\n",
        "        return 0\n",
        "    else:\n",
        "        return a + b + c\n",
        "\n",
        "a = int(input(\"Enter the first integer: \"))\n",
        "b = int(input(\"Enter the second integer: \"))\n",
        "c = int(input(\"Enter the third integer: \"))\n",
        "\n",
        "result = sum_of_integers(a, b, c)\n",
        "\n",
        "print(f\"The result is: {result}\")\n"
      ],
      "metadata": {
        "colab": {
          "base_uri": "https://localhost:8080/"
        },
        "id": "Ektb2li6u6AX",
        "outputId": "19c7069e-8a77-4d29-dc0e-06707ce1aba9"
      },
      "execution_count": null,
      "outputs": [
        {
          "output_type": "stream",
          "name": "stdout",
          "text": [
            "Enter the first integer: 3\n",
            "Enter the second integer: 5\n",
            "Enter the third integer: 3\n",
            "The result is: 0\n"
          ]
        }
      ]
    },
    {
      "cell_type": "markdown",
      "source": [
        "Q 13 Write a Python program that will return true if the two given\n",
        "integer values are equal or their sum or difference is 5.\n"
      ],
      "metadata": {
        "id": "w5RqKCnPvqR5"
      }
    },
    {
      "cell_type": "code",
      "source": [
        "def check_numbers(a, b):\n",
        "    if a == b or (a + b == 5) or (abs(a - b) == 5):\n",
        "        return True\n",
        "    else:\n",
        "        return False\n",
        "\n",
        "a = int(input(\"Enter the first integer: \"))\n",
        "b = int(input(\"Enter the second integer: \"))\n",
        "\n",
        "result = check_numbers(a, b)\n",
        "\n",
        "print(f\"The result is: {result}\")\n"
      ],
      "metadata": {
        "colab": {
          "base_uri": "https://localhost:8080/"
        },
        "id": "W-_W1Mx2vx-g",
        "outputId": "e6f07fe0-c083-4659-ad8a-0adf29f7985a"
      },
      "execution_count": null,
      "outputs": [
        {
          "output_type": "stream",
          "name": "stdout",
          "text": [
            "Enter the first integer: 4\n",
            "Enter the second integer: 4\n",
            "The result is: True\n"
          ]
        }
      ]
    },
    {
      "cell_type": "markdown",
      "source": [
        "Q 14 Write a python program to sum of the first n positive integers."
      ],
      "metadata": {
        "id": "8gnIaisgwNr8"
      }
    },
    {
      "cell_type": "code",
      "source": [
        "def sum_of_integers(n):\n",
        "    return n * (n + 1) // 2\n",
        "\n",
        "n = int(input(\"Enter a positive integer: \"))\n",
        "\n",
        "if n > 0:\n",
        "\n",
        "    result = sum_of_integers(n)\n",
        "    print(f\"The sum of the first {n} positive integers is: {result}\")\n",
        "else:\n",
        "    print(\"Please enter a positive integer.\")\n"
      ],
      "metadata": {
        "colab": {
          "base_uri": "https://localhost:8080/"
        },
        "id": "GX76eIXcwSJo",
        "outputId": "5e871618-8fb7-4400-a8c6-fa2feee308be"
      },
      "execution_count": null,
      "outputs": [
        {
          "output_type": "stream",
          "name": "stdout",
          "text": [
            "Enter a positive integer: 2\n",
            "The sum of the first 2 positive integers is: 3\n"
          ]
        }
      ]
    },
    {
      "cell_type": "markdown",
      "source": [
        "Q 15 Write a Python program to calculate the length of a string."
      ],
      "metadata": {
        "id": "tsZ3yBa9wtoi"
      }
    },
    {
      "cell_type": "code",
      "source": [
        "def calculate_length(string):\n",
        "    return len(string)\n",
        "\n",
        "user_string = input(\"Enter a string: \")\n",
        "\n",
        "length = calculate_length(user_string)\n",
        "print(f\"The length of the string is: {length}\")\n"
      ],
      "metadata": {
        "colab": {
          "base_uri": "https://localhost:8080/"
        },
        "id": "pSqe6UnPwxcp",
        "outputId": "e858b898-1593-4610-f66e-065a805d4b4a"
      },
      "execution_count": null,
      "outputs": [
        {
          "output_type": "stream",
          "name": "stdout",
          "text": [
            "Enter a string: tanmay\n",
            "The length of the string is: 6\n"
          ]
        }
      ]
    },
    {
      "cell_type": "markdown",
      "source": [
        "Q 16 Write a Python program to count the number of characters\n",
        "(character frequency) in a string"
      ],
      "metadata": {
        "id": "duS_VzgVxBmZ"
      }
    },
    {
      "cell_type": "code",
      "source": [
        "def count_characters(string):\n",
        "    frequency = {}\n",
        "\n",
        "    for char in string:\n",
        "        if char in frequency:\n",
        "            frequency[char] += 1\n",
        "        else:\n",
        "            frequency[char] = 1\n",
        "    return frequency\n",
        "\n",
        "user_string = input(\"Enter a string: \")\n",
        "\n",
        "char_frequency = count_characters(user_string)\n",
        "print(\"Character frequency in the string:\")\n",
        "for char, freq in char_frequency.items():\n",
        "    print(f\"'{char}': {freq}\")\n"
      ],
      "metadata": {
        "colab": {
          "base_uri": "https://localhost:8080/"
        },
        "id": "96mToH5gxGFJ",
        "outputId": "c1cd5c28-372c-4434-b3ae-a2d6231de9f1"
      },
      "execution_count": null,
      "outputs": [
        {
          "output_type": "stream",
          "name": "stdout",
          "text": [
            "Enter a string: tanmay suthar\n",
            "Character frequency in the string:\n",
            "'t': 2\n",
            "'a': 3\n",
            "'n': 1\n",
            "'m': 1\n",
            "'y': 1\n",
            "' ': 1\n",
            "'s': 1\n",
            "'u': 1\n",
            "'h': 1\n",
            "'r': 1\n"
          ]
        }
      ]
    },
    {
      "cell_type": "markdown",
      "source": [
        "Q 17 What are negative indexes and why are they used?\n",
        "\n",
        "  Negative indexes in Python are a way to access elements from the end of a list, string, or other sequence types."
      ],
      "metadata": {
        "id": "x6pzim8nxsmy"
      }
    },
    {
      "cell_type": "markdown",
      "source": [
        "Q 18 Write a Python program to count occurrences of a substring in a string.\n",
        "\n"
      ],
      "metadata": {
        "id": "-adPqBm3JtBu"
      }
    },
    {
      "cell_type": "code",
      "source": [
        "# Function to count occurrences of a substring in a string\n",
        "def count_substring(main_string, substring):\n",
        "    return main_string.count(substring)\n",
        "\n",
        "# Input from the user\n",
        "main_string = input(\"Enter the main string: \")\n",
        "substring = input(\"Enter the substring to count: \")\n",
        "\n",
        "# Count the occurrences of the substring\n",
        "count = count_substring(main_string, substring)\n",
        "\n",
        "# Display the result\n",
        "print(f\"The substring '{substring}' occurs {count} time(s) in the string.\")\n"
      ],
      "metadata": {
        "colab": {
          "base_uri": "https://localhost:8080/"
        },
        "id": "DTnFtsLKKFma",
        "outputId": "9ac8ff4f-a4ed-4bed-950b-055ad6750ede"
      },
      "execution_count": null,
      "outputs": [
        {
          "output_type": "stream",
          "name": "stdout",
          "text": [
            "Enter the main string: hello world hello\n",
            "Enter the substring to count: hello\n",
            "The substring 'hello' occurs 2 time(s) in the string.\n"
          ]
        }
      ]
    },
    {
      "cell_type": "markdown",
      "source": [
        "Q 19 Write a Python program to count the occurrences of each word a given sentences.\n"
      ],
      "metadata": {
        "id": "yZw-BZbDLB0C"
      }
    },
    {
      "cell_type": "code",
      "source": [
        "def count_words(sentence):\n",
        "\n",
        "    words = sentence.split()\n",
        "\n",
        "    word_count = {}\n",
        "\n",
        "    for word in words:\n",
        "        if word in word_count:\n",
        "            word_count[word] += 1\n",
        "            word_count[word] = 1\n",
        "\n",
        "    return word_count\n",
        "\n",
        "sentence = input(\"Enter a sentence: \")\n",
        "\n",
        "word_counts = count_words(sentence)\n",
        "\n",
        "print(\"Word occurrences in the sentence:\")\n",
        "for word, count in word_counts.items():\n",
        "    print(f\"'{word}': {count}\")\n"
      ],
      "metadata": {
        "colab": {
          "base_uri": "https://localhost:8080/"
        },
        "id": "UCvRZbtcLW4J",
        "outputId": "4e64ebaa-d359-42c3-c0e5-3a2aba658c7b"
      },
      "execution_count": null,
      "outputs": [
        {
          "output_type": "stream",
          "name": "stdout",
          "text": [
            "Enter a sentence: darpan is sleeping.darpan is eating\n",
            "Word occurrences in the sentence:\n"
          ]
        }
      ]
    },
    {
      "cell_type": "markdown",
      "source": [
        "Q 20 Write a Python program to get a single string from two given strings,\n",
        "separated by a space and swap the first two characters of each string.\n"
      ],
      "metadata": {
        "id": "h6JDfl7BMqZO"
      }
    },
    {
      "cell_type": "code",
      "source": [
        "def count_words(sentence):\n",
        "    words = sentence.split()\n",
        "\n",
        "    word_count = {}\n",
        "\n",
        "\n",
        "    for word in words:\n",
        "        if word in word_count:\n",
        "            word_count[word] += 1\n",
        "        else:\n",
        "            word_count[word] = 1\n",
        "\n",
        "    return word_count\n",
        "\n",
        "sentence = input(\"Enter a sentence: \")\n",
        "\n",
        "word_counts = count_words(sentence)\n",
        "\n",
        "print(\"Word occurrences in the sentence:\")\n",
        "for word, count in word_counts.items():\n",
        "    print(f\"'{word}': {count}\")\n"
      ],
      "metadata": {
        "colab": {
          "base_uri": "https://localhost:8080/"
        },
        "id": "cGIqtXYpM0o2",
        "outputId": "6b88fd1c-8b72-4acc-b073-488859b519b2"
      },
      "execution_count": null,
      "outputs": [
        {
          "output_type": "stream",
          "name": "stdout",
          "text": [
            "Enter a sentence: tanmay is good singer\n",
            "Word occurrences in the sentence:\n",
            "'tanmay': 1\n",
            "'is': 1\n",
            "'good': 1\n",
            "'singer': 1\n"
          ]
        }
      ]
    },
    {
      "cell_type": "markdown",
      "source": [
        "Q 21 Write a Python program to add 'in' at the end of a given string (length\n",
        "should be at least 3). If the given string already ends with 'ing' then\n",
        "add 'ly' instead if the string length of the given string is less than 3,\n",
        "leave it unchanged."
      ],
      "metadata": {
        "id": "6B_ohtNsN3bb"
      }
    },
    {
      "cell_type": "code",
      "source": [
        "def add_suffix(string):\n",
        "    if len(string) < 3:\n",
        "        return string\n",
        "    elif string.endswith('ing'):\n",
        "        return string + 'ly'\n",
        "    else:\n",
        "        return string + 'ing'\n",
        "\n",
        "user_string = input(\"Enter a string: \")\n",
        "\n",
        "result = add_suffix(user_string)\n",
        "print(f\"Modified string: {result}\")\n"
      ],
      "metadata": {
        "colab": {
          "base_uri": "https://localhost:8080/"
        },
        "id": "dXEHxXtXN9IY",
        "outputId": "11795195-9db2-42cd-b2d9-963d6a3bcd00"
      },
      "execution_count": null,
      "outputs": [
        {
          "output_type": "stream",
          "name": "stdout",
          "text": [
            "Enter a string: tanmay\n",
            "Modified string: tanmaying\n"
          ]
        }
      ]
    },
    {
      "cell_type": "markdown",
      "source": [
        "Q 22 Write a Python function to reverses a string if its length is a multiple\n",
        "of 4.\n"
      ],
      "metadata": {
        "id": "L3QEkNlzPDi6"
      }
    },
    {
      "cell_type": "code",
      "source": [
        "\n",
        "def reverse_string_if_multiple_of_4(string):\n",
        "    if len(string) % 4 == 0:\n",
        "        return string[::-1]\n",
        "    else:\n",
        "        return string\n",
        "\n",
        "user_string = input(\"Enter a string: \")\n",
        "\n",
        "result = reverse_string_if_multiple_of_4(user_string)\n",
        "print(f\"Result: {result}\")"
      ],
      "metadata": {
        "colab": {
          "base_uri": "https://localhost:8080/"
        },
        "id": "ESZQupbDPW8k",
        "outputId": "38d20109-3617-4ee7-995b-5d162dc13814"
      },
      "execution_count": null,
      "outputs": [
        {
          "output_type": "stream",
          "name": "stdout",
          "text": [
            "Enter a string: tanmay\n",
            "Result: tanmay\n"
          ]
        }
      ]
    },
    {
      "cell_type": "markdown",
      "source": [
        "Q 23 Write a Python program to get a string made of the first 2 and the last\n",
        "2 chars from a given a string. If the string length is less than 2, return\n",
        "instead of the empty string.\n"
      ],
      "metadata": {
        "id": "NklJJJuEYHI8"
      }
    },
    {
      "cell_type": "code",
      "source": [
        "def first_and_last_2_chars(string):\n",
        "    if len(string) < 2:\n",
        "        return ''\n",
        "    else:\n",
        "        return string[:2] + string[-2:]\n",
        "\n",
        "user_string = input(\"Enter a string: \")\n",
        "\n",
        "result = first_and_last_2_chars(user_string)\n",
        "print(f\"Result: {result}\")\n"
      ],
      "metadata": {
        "colab": {
          "base_uri": "https://localhost:8080/"
        },
        "id": "44Wb1BWXYJTS",
        "outputId": "1899fa08-e21f-4fb2-da68-a0f8caeba928"
      },
      "execution_count": null,
      "outputs": [
        {
          "output_type": "stream",
          "name": "stdout",
          "text": [
            "Enter a string: tanmay\n",
            "Result: taay\n"
          ]
        }
      ]
    },
    {
      "cell_type": "markdown",
      "source": [
        "Q 24 Write a Python function to insert a string in the middle of a string"
      ],
      "metadata": {
        "id": "tqyUSoKxW1PB"
      }
    },
    {
      "cell_type": "code",
      "source": [
        "def insert_in_middle(original, insert):\n",
        "    middle_index = len(original) // 2\n",
        "\n",
        "\n",
        "    result = original[:middle_index] + insert + original[middle_index:]\n",
        "\n",
        "    return result\n",
        "\n",
        "\n",
        "original_string = input(\"Enter the original string: \")\n",
        "insert_string = input(\"Enter the string to insert: \")\n",
        "\n",
        "result = insert_in_middle(original_string, insert_string)\n",
        "print(f\"Result: {result}\")"
      ],
      "metadata": {
        "colab": {
          "base_uri": "https://localhost:8080/"
        },
        "id": "KVRXjCP1W5VA",
        "outputId": "f2e9f2b0-e43f-485a-b896-7594c6a1d397"
      },
      "execution_count": null,
      "outputs": [
        {
          "output_type": "stream",
          "name": "stdout",
          "text": [
            "Enter the original string: india\n",
            "Enter the string to insert: country\n",
            "Result: incountrydia\n"
          ]
        }
      ]
    },
    {
      "cell_type": "markdown",
      "source": [
        "Q 25 What is List? How will you reverse a list?\n",
        "\n",
        "    A list in Python is a data structure that allows you to store multiple items in a single variable.\n",
        "\n"
      ],
      "metadata": {
        "id": "9TDu0fZkXZKZ"
      }
    },
    {
      "cell_type": "code",
      "source": [
        "my_list = [1, 2, 3, \"apple\", 4.5, [6, 7]]"
      ],
      "metadata": {
        "id": "W-4wdHZbXuSX"
      },
      "execution_count": null,
      "outputs": []
    },
    {
      "cell_type": "markdown",
      "source": [
        "Q 26 How will you remove last object from a list?\n",
        "\n",
        "  "
      ],
      "metadata": {
        "id": "FRAzGlFaX5dA"
      }
    },
    {
      "cell_type": "code",
      "source": [
        "my_list = [1, 2, 3, 4, 5]\n",
        "my_list = my_list[:-1]\n",
        "print(my_list)\n"
      ],
      "metadata": {
        "colab": {
          "base_uri": "https://localhost:8080/"
        },
        "id": "r0bGcE5aYHvy",
        "outputId": "f30a7792-8f21-433a-9d4c-ca3950dceacb"
      },
      "execution_count": null,
      "outputs": [
        {
          "output_type": "stream",
          "name": "stdout",
          "text": [
            "[1, 2, 3, 4]\n"
          ]
        }
      ]
    },
    {
      "cell_type": "markdown",
      "source": [
        "Q 27 Suppose list1 is [2, 33, 222, 14, and 25], what is list1 [-\n",
        "1]?\n"
      ],
      "metadata": {
        "id": "_CrrpFFPYUkU"
      }
    },
    {
      "cell_type": "code",
      "source": [
        "list1 = [2, 33, 222, 14, 25]\n",
        "list1 = [2, 33, 222, 14, 25]\n",
        "\n",
        "print(list1[-1])\n"
      ],
      "metadata": {
        "colab": {
          "base_uri": "https://localhost:8080/"
        },
        "id": "IM9StL_hYcPK",
        "outputId": "5857d916-d932-4014-de61-1d6a13188b0e"
      },
      "execution_count": null,
      "outputs": [
        {
          "output_type": "stream",
          "name": "stdout",
          "text": [
            "25\n"
          ]
        }
      ]
    },
    {
      "cell_type": "markdown",
      "source": [
        "Q 28 Differentiate between append () and extend () methods?\n",
        "\n",
        "\n",
        "EXTENDS  Adds a single element to the end of the list.\n",
        "\n",
        "METHODS  Adds all elements of an iterable (e.g., list, tuple, string) to the end of the list."
      ],
      "metadata": {
        "id": "VA8ODAryY0OK"
      }
    },
    {
      "cell_type": "markdown",
      "source": [
        "Q 29 Write a Python function to get the largest number, smallest num\n",
        "and sum of all from a list"
      ],
      "metadata": {
        "id": "K2ndzMUCZK0g"
      }
    },
    {
      "cell_type": "code",
      "source": [
        "def list_statistics(numbers):\n",
        "    if not numbers:\n",
        "        return None, None, 0\n",
        "\n",
        "    largest = max(numbers)\n",
        "\n",
        "    smallest = min(numbers)\n",
        "\n",
        "    total_sum = sum(numbers)\n",
        "\n",
        "    return largest, smallest, total_sum\n",
        "\n",
        "numbers_list = [10, 5, 23, 7, 2, 45]\n",
        "largest, smallest, total_sum = list_statistics(numbers_list)\n",
        "\n",
        "print(\"Largest number:\", largest)\n",
        "print(\"Smallest number:\", smallest)\n",
        "print(\"Sum of all numbers:\", total_sum)\n",
        "\n"
      ],
      "metadata": {
        "colab": {
          "base_uri": "https://localhost:8080/"
        },
        "id": "6kuweAwEZQ4D",
        "outputId": "c01b2a4f-a109-482d-b5ff-1c49caffc6f6"
      },
      "execution_count": null,
      "outputs": [
        {
          "output_type": "stream",
          "name": "stdout",
          "text": [
            "Largest number: 45\n",
            "Smallest number: 2\n",
            "Sum of all numbers: 92\n"
          ]
        }
      ]
    },
    {
      "cell_type": "markdown",
      "source": [
        "Q 30 How will you compare two lists?"
      ],
      "metadata": {
        "id": "I0_Md2x2Z4ld"
      }
    },
    {
      "cell_type": "code",
      "source": [
        "list1 = [1, 2,]\n",
        "list2 = [1, 2,]\n",
        "\n",
        "print(list1 == list2)\n",
        "print(list1 == list2)\n"
      ],
      "metadata": {
        "colab": {
          "base_uri": "https://localhost:8080/"
        },
        "id": "B2JPMR7laC5E",
        "outputId": "98af7329-88f1-443e-c100-d4a50edbf818"
      },
      "execution_count": null,
      "outputs": [
        {
          "output_type": "stream",
          "name": "stdout",
          "text": [
            "True\n",
            "True\n"
          ]
        }
      ]
    },
    {
      "cell_type": "markdown",
      "source": [
        "Q 31 Write a Python program to count the number of strings where the string\n",
        "length is 2 or more and the first and last character are same from a given list\n",
        "of strings."
      ],
      "metadata": {
        "id": "Hpxyb1jcagrt"
      }
    },
    {
      "cell_type": "code",
      "source": [
        "def count_special_strings(string_list):\n",
        "    count = 0\n",
        "    for string in string_list:\n",
        "\n",
        "        if len(string) >= 2 and string[0] == string[-1]:\n",
        "            count += 1\n",
        "    return count\n",
        "\n",
        "strings = ['abc', 'xyz', 'aba', '1221', 'ab']\n",
        "result = count_special_strings(strings)\n",
        "\n",
        "print(\"same first and last character:\", result)\n"
      ],
      "metadata": {
        "colab": {
          "base_uri": "https://localhost:8080/"
        },
        "id": "WK-bNllBakEH",
        "outputId": "84ca3b59-9249-4d4c-888a-5333d035b4ff"
      },
      "execution_count": null,
      "outputs": [
        {
          "output_type": "stream",
          "name": "stdout",
          "text": [
            "same first and last character: 2\n"
          ]
        }
      ]
    },
    {
      "cell_type": "markdown",
      "source": [
        "Q 32 Write a Python program to remove duplicates from a list.\n"
      ],
      "metadata": {
        "id": "3taFlCiQC3N9"
      }
    },
    {
      "cell_type": "code",
      "source": [
        "def remove_duplicates(input_list):\n",
        "    return list(set(input_list))\n",
        "\n",
        "my_list = [1, 2, 2, 3, 4, 4, 5]\n",
        "result = remove_duplicates(my_list)\n",
        "print(\"removed duplicates:\", result)\n"
      ],
      "metadata": {
        "colab": {
          "base_uri": "https://localhost:8080/"
        },
        "id": "Y2EtgLc3C7z0",
        "outputId": "e4a898e4-3eeb-4e57-8f90-eb0880253172"
      },
      "execution_count": null,
      "outputs": [
        {
          "output_type": "stream",
          "name": "stdout",
          "text": [
            "removed duplicates: [1, 2, 3, 4, 5]\n"
          ]
        }
      ]
    },
    {
      "cell_type": "markdown",
      "source": [
        "Q 33 Write a Python program to check a list is empty or not."
      ],
      "metadata": {
        "id": "61BgqYucDO_1"
      }
    },
    {
      "cell_type": "code",
      "source": [
        "def is_list_empty(input_list):\n",
        "    if not input_list:\n",
        "        return True\n",
        "    else:\n",
        "        return False\n",
        "\n",
        "my_list = []\n",
        "if is_list_empty(my_list):\n",
        "    print(\"The list is empty.\")\n",
        "else:\n",
        "    print(\"The list is not empty.\")\n"
      ],
      "metadata": {
        "id": "9UnZDnDtEFED"
      },
      "execution_count": null,
      "outputs": []
    },
    {
      "cell_type": "markdown",
      "source": [
        "Q 34 Write a Python function that takes two lists and returns true if they\n",
        "have at least one common member"
      ],
      "metadata": {
        "id": "tnmviohsEwdo"
      }
    },
    {
      "cell_type": "code",
      "source": [
        "def have_common_member(list1, list2):\n",
        "    return any(item in list2 for item in list1)\n",
        "\n",
        "list1 = [1, 2, 0, 4]\n",
        "list2 = [5, 6, 7, 4]\n",
        "\n",
        "print(have_common_member(list1, list2))\n"
      ],
      "metadata": {
        "colab": {
          "base_uri": "https://localhost:8080/"
        },
        "id": "ennKDgPsE339",
        "outputId": "388f3c4e-3106-4cd2-b5d8-e07cc9437c70"
      },
      "execution_count": null,
      "outputs": [
        {
          "output_type": "stream",
          "name": "stdout",
          "text": [
            "True\n"
          ]
        }
      ]
    },
    {
      "cell_type": "markdown",
      "source": [
        "Q 35 Write a Python program to generate and print a list of first and last 5\n",
        "elements where the values are square of numbers between 1 and 30."
      ],
      "metadata": {
        "id": "j1hGnxJEFrnV"
      }
    },
    {
      "cell_type": "code",
      "source": [
        "def generate_squares():\n",
        "\n",
        "    squares = [x**2 for x in range(1, 31)]\n",
        "\n",
        "    first_five = squares[:5]\n",
        "    last_five = squares[-5:]\n",
        "\n",
        "    print(\"First 5 elements:\", first_five)\n",
        "    print(\"Last 5 elements:\", last_five)\n",
        "\n",
        "generate_squares()\n"
      ],
      "metadata": {
        "colab": {
          "base_uri": "https://localhost:8080/"
        },
        "id": "VlWienY3Fv5m",
        "outputId": "b429a057-e82b-49ec-da1c-9f695f2685ea"
      },
      "execution_count": null,
      "outputs": [
        {
          "output_type": "stream",
          "name": "stdout",
          "text": [
            "First 5 elements: [1, 4, 9, 16, 25]\n",
            "Last 5 elements: [676, 729, 784, 841, 900]\n"
          ]
        }
      ]
    },
    {
      "cell_type": "markdown",
      "source": [
        "Q 36 Write a Python function that takes a list and returns a new list with\n",
        "unique elements of the first list"
      ],
      "metadata": {
        "id": "U82ZjFY-loyI"
      }
    },
    {
      "cell_type": "code",
      "source": [
        "def unique_elements(input_list):\n",
        "    unique_list = list(set(input_list))\n",
        "    return unique_list\n",
        "\n",
        "my_list = [1, 2, 2, 3, 4, 4, 5]\n",
        "result = unique_elements(my_list)\n",
        "\n",
        "print(\"Unique elements:\", result)\n"
      ],
      "metadata": {
        "colab": {
          "base_uri": "https://localhost:8080/"
        },
        "id": "CpKCAqasltl6",
        "outputId": "480ee12c-5bb5-4fcf-b83f-401dae4d1ee5"
      },
      "execution_count": null,
      "outputs": [
        {
          "output_type": "stream",
          "name": "stdout",
          "text": [
            "Unique elements: [1, 2, 3, 4, 5]\n"
          ]
        }
      ]
    },
    {
      "cell_type": "markdown",
      "source": [
        "Q 37 Write a Python program to convert a list of characters into a string"
      ],
      "metadata": {
        "id": "NGUmb1fDmKCt"
      }
    },
    {
      "cell_type": "code",
      "source": [
        "def list_to_string(char_list):\n",
        "\n",
        "    return ''.join(char_list)\n",
        "\n",
        "char_list = ['H', 'e', 'l', 'l', 'o', ' ', 'W', 'o', 'r', 'l', 'd']\n",
        "result_string = list_to_string(char_list)\n",
        "print(result_string)\n"
      ],
      "metadata": {
        "colab": {
          "base_uri": "https://localhost:8080/"
        },
        "id": "hRPTMutkWMBl",
        "outputId": "e7f6d223-ded7-41a4-a3fb-b561f9ab4963"
      },
      "execution_count": null,
      "outputs": [
        {
          "output_type": "stream",
          "name": "stdout",
          "text": [
            "Hello World\n"
          ]
        }
      ]
    },
    {
      "cell_type": "markdown",
      "source": [
        "Q 38 Write a Python program to select an item randomly from a list."
      ],
      "metadata": {
        "id": "FpuhszbqWU5V"
      }
    },
    {
      "cell_type": "code",
      "source": [
        "def select_random_item(my_list):\n",
        "    return random.choice(my_list)\n",
        "\n",
        "my_list = [10, 20, 30, 40, 50]\n",
        "random_item = select_random_item(my_list)\n",
        "print(f\"Randomly selected item: {random_item}\")\n"
      ],
      "metadata": {
        "colab": {
          "base_uri": "https://localhost:8080/"
        },
        "id": "lHfYa98DWZ5O",
        "outputId": "48032ca1-ab63-41c6-b288-754653424ef8"
      },
      "execution_count": null,
      "outputs": [
        {
          "output_type": "stream",
          "name": "stdout",
          "text": [
            "Randomly selected item: 40\n"
          ]
        }
      ]
    },
    {
      "cell_type": "markdown",
      "source": [
        "Q 39 Write a Python program to find the second smallest number in a list."
      ],
      "metadata": {
        "id": "Fxi-082DWkV2"
      }
    },
    {
      "cell_type": "code",
      "source": [
        "def second_smallest(numbers):\n",
        "    if len(numbers) < 2:\n",
        "        return None\n",
        "    smallest = second_smallest = float('inf')\n",
        "\n",
        "    for num in numbers:\n",
        "        if num < smallest:\n",
        "            second_smallest = smallest\n",
        "            smallest = num\n",
        "        elif smallest < num < second_smallest:\n",
        "            second_smallest = num\n",
        "\n",
        "    return second_smallest\n",
        "\n",
        "my_list = [12, 5, 7, 3, 19, 8]\n",
        "result = second_smallest(my_list)\n",
        "if result is not None:\n",
        "    print(f\"The second smallest number is: {result}\")\n",
        "else:\n",
        "    print(\"List doesn't have enough elements.\")\n"
      ],
      "metadata": {
        "colab": {
          "base_uri": "https://localhost:8080/"
        },
        "id": "dDlYcgaBWmvu",
        "outputId": "5d9fbb0f-90df-4ccf-ad46-34b2dd7a1d1d"
      },
      "execution_count": null,
      "outputs": [
        {
          "output_type": "stream",
          "name": "stdout",
          "text": [
            "The second smallest number is: 5\n"
          ]
        }
      ]
    },
    {
      "cell_type": "markdown",
      "source": [
        "Q 40 Write a Python program to get unique values from a list"
      ],
      "metadata": {
        "id": "twoukZ-eXbyP"
      }
    },
    {
      "cell_type": "code",
      "source": [
        "def get_unique_values(my_list):\n",
        "    unique_values = list(set(my_list))\n",
        "    return unique_values\n",
        "\n",
        "my_list = [1, 2, 2, 3, 4, 4, 5]\n",
        "result = get_unique_values(my_list)\n",
        "print(result)\n",
        "\n"
      ],
      "metadata": {
        "colab": {
          "base_uri": "https://localhost:8080/"
        },
        "id": "02G8UvE7Xfl0",
        "outputId": "5d69defd-b371-4068-8b7a-2da8fe4c0192"
      },
      "execution_count": null,
      "outputs": [
        {
          "output_type": "stream",
          "name": "stdout",
          "text": [
            "[1, 2, 3, 4, 5]\n"
          ]
        }
      ]
    },
    {
      "cell_type": "markdown",
      "source": [
        "Q 41 Write a Python program to check whether a list contains a sub list"
      ],
      "metadata": {
        "id": "5fgNpSNcYahn"
      }
    },
    {
      "cell_type": "code",
      "source": [
        "def contains_sublist(main_list, sublist):\n",
        "    for i in range(len(main_list) - len(sublist) + 1):\n",
        "        if main_list[i:i+len(sublist)] == sublist:\n",
        "            return True\n",
        "    return False\n",
        "\n",
        "main_list = [1, 2, 3, 4, 5, 6]\n",
        "sublist = [3, 4]\n",
        "\n",
        "if contains_sublist(main_list, sublist):\n",
        "    print(\"The list contains the sublist.\")\n",
        "else:\n",
        "    print(\"The list does not contain the sublist.\")\n"
      ],
      "metadata": {
        "colab": {
          "base_uri": "https://localhost:8080/"
        },
        "id": "NjmFIn2kYfwM",
        "outputId": "760cdd16-6156-43da-b183-667a0b7e524c"
      },
      "execution_count": null,
      "outputs": [
        {
          "output_type": "stream",
          "name": "stdout",
          "text": [
            "The list contains the sublist.\n"
          ]
        }
      ]
    },
    {
      "cell_type": "markdown",
      "source": [
        "Q 42 Write a Python program to split a list into different variables.\n"
      ],
      "metadata": {
        "id": "4JUb2Ts9Y8lF"
      }
    },
    {
      "cell_type": "code",
      "source": [
        "def split_list(my_list):\n",
        "    a, b, c, e = my_list[:4]\n",
        "    return a, b, c, d\n",
        "\n"
      ],
      "metadata": {
        "id": "6Ilf5YNcZAIO"
      },
      "execution_count": null,
      "outputs": []
    },
    {
      "cell_type": "markdown",
      "source": [
        "Q 43 What is tuple? Difference between list and tuple.\n",
        "\n",
        "     A tuple is a collection of ordered and immutable elements in Python.\n",
        "\n",
        "     LIST\n",
        "     list is mutable and defined using square bracket.\n",
        "\n",
        "     TUPLE\n",
        "     tuple is unmutable and defined in parentheses."
      ],
      "metadata": {
        "id": "CyLhPwOsZgyN"
      }
    },
    {
      "cell_type": "markdown",
      "source": [
        "Q 44 Write a Python program to create a tuple with different data types."
      ],
      "metadata": {
        "id": "S3alLL8UaFGo"
      }
    },
    {
      "cell_type": "code",
      "source": [
        "my_tuple = (1, \"HELlo\", 3.14, True, [1, 2, 3])\n",
        "\n",
        "print(my_tuple)\n"
      ],
      "metadata": {
        "colab": {
          "base_uri": "https://localhost:8080/"
        },
        "id": "DzLcplXoaIeu",
        "outputId": "734309be-6dfa-40f2-badf-77ed5938b677"
      },
      "execution_count": null,
      "outputs": [
        {
          "output_type": "stream",
          "name": "stdout",
          "text": [
            "(1, 'HELlo', 3.14, True, [1, 2, 3])\n"
          ]
        }
      ]
    },
    {
      "cell_type": "markdown",
      "source": [
        "Q 45 Write a Python program to unzip a list of tuples into individual lists."
      ],
      "metadata": {
        "id": "MHthfZwwaYlO"
      }
    },
    {
      "cell_type": "code",
      "source": [
        "list_of_tuples = [(1, 'a'), (2, 'b'), (3, 'c'), (4, 'd')]\n",
        "\n",
        "list1, list2 = zip(*list_of_tuples)\n",
        "\n",
        "list1 = list(list1)\n",
        "list2 = list(list2)\n",
        "\n",
        "print(\"List 1:\", list1)\n",
        "print(\"List 2:\", list2)\n"
      ],
      "metadata": {
        "colab": {
          "base_uri": "https://localhost:8080/"
        },
        "id": "nu-vKA_nadUe",
        "outputId": "a2bf9677-c916-4cc9-835a-12915f453dec"
      },
      "execution_count": null,
      "outputs": [
        {
          "output_type": "stream",
          "name": "stdout",
          "text": [
            "List 1: [1, 2, 3, 4]\n",
            "List 2: ['a', 'b', 'c', 'd']\n"
          ]
        }
      ]
    },
    {
      "cell_type": "markdown",
      "source": [
        "Q 46 Write a Python program to convert a list of tuples into a dictionary."
      ],
      "metadata": {
        "id": "hZ65EQkVa0Lo"
      }
    },
    {
      "cell_type": "code",
      "source": [
        "def convert_to_dict(tuple_list):\n",
        "    return dict(tuple_list)\n",
        "\n",
        "tuple_list = [(1, 'apple'), (2, 'banana'), (3, 'cherry')]\n",
        "result_dict = convert_to_dict(tuple_list)\n",
        "print(result_dict)\n"
      ],
      "metadata": {
        "colab": {
          "base_uri": "https://localhost:8080/"
        },
        "id": "nlNInRfDa352",
        "outputId": "fc6fb316-e24c-45ea-c58d-9335d909e903"
      },
      "execution_count": null,
      "outputs": [
        {
          "output_type": "stream",
          "name": "stdout",
          "text": [
            "{1: 'apple', 2: 'banana', 3: 'cherry'}\n"
          ]
        }
      ]
    },
    {
      "cell_type": "markdown",
      "source": [
        "Q 47 How will you create a dictionary using tuples in python?"
      ],
      "metadata": {
        "id": "T_cJcTdVbUxW"
      }
    },
    {
      "cell_type": "code",
      "source": [
        "# List of tuples (each tuple contains a key-value pair)\n",
        "tuple_list = [(1, 'apple'), (2, 'banana'), (3, 'cherry')]\n",
        "my_dict = dict(tuple_list)\n",
        "\n",
        "print(my_dict)\n"
      ],
      "metadata": {
        "colab": {
          "base_uri": "https://localhost:8080/"
        },
        "id": "kugvvDb-bYG2",
        "outputId": "a4868d00-98db-4d81-8c95-4ccaa840cd97"
      },
      "execution_count": null,
      "outputs": [
        {
          "output_type": "stream",
          "name": "stdout",
          "text": [
            "{1: 'apple', 2: 'banana', 3: 'cherry'}\n"
          ]
        }
      ]
    },
    {
      "cell_type": "markdown",
      "source": [
        "Q 48 Write a Python script to sort (ascending and descending) a\n",
        "dictionary by value."
      ],
      "metadata": {
        "id": "4O2vLNppblug"
      }
    },
    {
      "cell_type": "code",
      "source": [
        "my_dict = {'apple': 10, 'banana': 2, 'cherry': 15, 'date': 7}\n",
        "\n",
        "# Sorting the dictionary by value in ascending order\n",
        "ascending_keys = sorted(my_dict, key=my_dict.get)\n",
        "ascending_dict = {key: my_dict[key] for key in ascending_keys}\n",
        "\n",
        "# Sorting the dictionary by value in descending order\n",
        "descending_keys = sorted(my_dict, key=my_dict.get, reverse=True)\n",
        "descending_dict = {key: my_dict[key] for key in descending_keys}\n",
        "\n",
        "print(\"Dictionary sorted by value in ascending order:\")\n",
        "print(ascending_dict)\n",
        "\n",
        "print(\"\\nDictionary sorted by value in descending order:\")\n",
        "print(descending_dict)\n"
      ],
      "metadata": {
        "colab": {
          "base_uri": "https://localhost:8080/"
        },
        "id": "CbmFEU6nbo3G",
        "outputId": "1cadb7b6-494a-499c-cb7a-7a64d240c3bd"
      },
      "execution_count": null,
      "outputs": [
        {
          "output_type": "stream",
          "name": "stdout",
          "text": [
            "Dictionary sorted by value in ascending order:\n",
            "{'banana': 2, 'date': 7, 'apple': 10, 'cherry': 15}\n",
            "\n",
            "Dictionary sorted by value in descending order:\n",
            "{'cherry': 15, 'apple': 10, 'date': 7, 'banana': 2}\n"
          ]
        }
      ]
    },
    {
      "cell_type": "markdown",
      "source": [
        "Q 49 Write a Python script to concatenate following dictionaries to create\n",
        "a new one"
      ],
      "metadata": {
        "id": "eQ3KMFHvcJan"
      }
    },
    {
      "cell_type": "code",
      "source": [
        "dict1 = {1: \"apple\", 2: \"banana\"}\n",
        "dict2 = {3: \"cherry\", 4: \"date\"}\n",
        "dict3 = {5: \"elderberry\", 6: \"fig\"}\n",
        "\n",
        "\n",
        "concatenated_dict = {}\n",
        "for d in (dict1, dict2, dict3):\n",
        "    concatenated_dict.update(d)\n",
        "\n",
        "print(\"Concatenated Dictionary:\")\n",
        "print(concatenated_dict)"
      ],
      "metadata": {
        "colab": {
          "base_uri": "https://localhost:8080/"
        },
        "id": "Z45bfbwCcMmn",
        "outputId": "4fdc79ff-1a3e-4b43-cda0-51d1ebeeacca"
      },
      "execution_count": null,
      "outputs": [
        {
          "output_type": "stream",
          "name": "stdout",
          "text": [
            "Concatenated Dictionary:\n",
            "{1: 'apple', 2: 'banana', 3: 'cherry', 4: 'date', 5: 'elderberry', 6: 'fig'}\n"
          ]
        }
      ]
    },
    {
      "cell_type": "markdown",
      "source": [
        "Q 50 Write a Python script to check if a given key already exists in a\n",
        "dictionary."
      ],
      "metadata": {
        "id": "qqtKuf3ucjWm"
      }
    },
    {
      "cell_type": "code",
      "source": [
        "my_dict = {1: \"apple\", 2: \"banana\", 3: \"cherry\"}\n",
        "\n",
        "def check_key_exists(key, dictionary):\n",
        "    if key in dictionary:\n",
        "        print(f\"Key {key} exists in the dictionary.\")\n",
        "    else:\n",
        "        print(f\"Key {key} does not exist in the dictionary.\")\n",
        "\n",
        "key_to_check = 2\n",
        "check_key_exists(key_to_check, my_dict)\n"
      ],
      "metadata": {
        "colab": {
          "base_uri": "https://localhost:8080/"
        },
        "id": "1pL4rSAJcnDH",
        "outputId": "5a9e188f-7fa4-4334-a81b-6171eab3539e"
      },
      "execution_count": null,
      "outputs": [
        {
          "output_type": "stream",
          "name": "stdout",
          "text": [
            "Key 2 exists in the dictionary.\n"
          ]
        }
      ]
    },
    {
      "cell_type": "markdown",
      "source": [
        "Q 51 How Do You Traverse Through a Dictionary Object in Python?"
      ],
      "metadata": {
        "id": "RlFOWkDBdZXk"
      }
    },
    {
      "cell_type": "code",
      "source": [
        "my_dict = {'a': 1, 'b': 2, 'c': 3}\n",
        "\n",
        "for key in my_dict:\n",
        "    print(key)\n"
      ],
      "metadata": {
        "colab": {
          "base_uri": "https://localhost:8080/"
        },
        "id": "yRZZp9Nudcy9",
        "outputId": "e24519c9-38d8-4b7c-ed7c-3ec3c71ced38"
      },
      "execution_count": null,
      "outputs": [
        {
          "output_type": "stream",
          "name": "stdout",
          "text": [
            "a\n",
            "b\n",
            "c\n"
          ]
        }
      ]
    },
    {
      "cell_type": "markdown",
      "source": [
        "Q 52 How Do You Check the Presence of a Key in A Dictionary?"
      ],
      "metadata": {
        "id": "MjgVzgacdobM"
      }
    },
    {
      "cell_type": "code",
      "source": [
        "my_dict = {'a': 1, 'b': 2, 'c': 3}\n",
        "\n",
        "if 'a' in my_dict:\n",
        "    print(\"Key 'a' is present\")\n",
        "else:\n",
        "    print(\"Key 'a' is not present\")\n"
      ],
      "metadata": {
        "colab": {
          "base_uri": "https://localhost:8080/"
        },
        "id": "C5IFjqDpdsn0",
        "outputId": "d1a8b802-cfcd-405a-a1e5-ed38f24f83c4"
      },
      "execution_count": null,
      "outputs": [
        {
          "output_type": "stream",
          "name": "stdout",
          "text": [
            "Key 'a' is present\n"
          ]
        }
      ]
    },
    {
      "cell_type": "markdown",
      "source": [
        "Q 53 Write a Python script to print a dictionary where the keys are\n",
        "numbers between 1 and 15."
      ],
      "metadata": {
        "id": "QlYcnXrrd8Ot"
      }
    },
    {
      "cell_type": "code",
      "source": [
        "my_dict = {}\n",
        "\n",
        "for num in range(1, 16):\n",
        "    my_dict[num] = num ** 2\n",
        "print(my_dict)\n"
      ],
      "metadata": {
        "colab": {
          "base_uri": "https://localhost:8080/"
        },
        "id": "giwkC-rVeBVE",
        "outputId": "af983029-58ce-4e86-9855-b6ca7afaed0f"
      },
      "execution_count": null,
      "outputs": [
        {
          "output_type": "stream",
          "name": "stdout",
          "text": [
            "{1: 1, 2: 4, 3: 9, 4: 16, 5: 25, 6: 36, 7: 49, 8: 64, 9: 81, 10: 100, 11: 121, 12: 144, 13: 169, 14: 196, 15: 225}\n"
          ]
        }
      ]
    },
    {
      "cell_type": "markdown",
      "source": [
        "Q 54 Write a Python program to check multiple keys exists in a dictionary"
      ],
      "metadata": {
        "id": "A9pOk58ZeVRN"
      }
    },
    {
      "cell_type": "code",
      "source": [
        "def check_keys_exist(dictionary, keys):\n",
        "    return all(key in dictionary for key in keys)\n",
        "\n",
        "my_dict = {'a': 1, 'b': 2, 'c': 3, 'd': 4}\n",
        "\n",
        "keys_to_check = ['a', 'b', 'e']\n",
        "\n",
        "if check_keys_exist(my_dict, keys_to_check):\n",
        "    print(\"All keys exist in the dictionary\")\n",
        "else:\n",
        "    print(\"Not all keys exist in the dictionary\")\n"
      ],
      "metadata": {
        "colab": {
          "base_uri": "https://localhost:8080/"
        },
        "id": "d8-sONQGeXwk",
        "outputId": "96da8e87-f2fb-4350-8b55-c3d7deab9d7a"
      },
      "execution_count": null,
      "outputs": [
        {
          "output_type": "stream",
          "name": "stdout",
          "text": [
            "Not all keys exist in the dictionary\n"
          ]
        }
      ]
    },
    {
      "cell_type": "markdown",
      "source": [
        "Q 55 Write a Python script to merge two Python dictionaries\n"
      ],
      "metadata": {
        "id": "6OD8ADZQetv8"
      }
    },
    {
      "cell_type": "code",
      "source": [
        "dict1 = {'a': 1, 'b': 2}\n",
        "dict2 = {'c': 3, 'd': 4}\n",
        "\n",
        "dict1.update(dict2)\n",
        "\n",
        "print(\"Merged dictionary:\", dict1)\n"
      ],
      "metadata": {
        "colab": {
          "base_uri": "https://localhost:8080/"
        },
        "id": "IPS9EYlYextE",
        "outputId": "564d6ff2-fdc1-46ff-e7f7-16501565ee08"
      },
      "execution_count": null,
      "outputs": [
        {
          "output_type": "stream",
          "name": "stdout",
          "text": [
            "Merged dictionary: {'a': 1, 'b': 2, 'c': 3, 'd': 4}\n"
          ]
        }
      ]
    },
    {
      "cell_type": "markdown",
      "source": [
        "Q 56 Write a Python program to map two lists into a dictionary\n",
        "Sample output: Counter ({'a': 400, 'b': 400,’d’: 400, 'c': 300})"
      ],
      "metadata": {
        "id": "_oYFL3Lpe6_8"
      }
    },
    {
      "cell_type": "code",
      "source": [
        "keys = ['a', 'b', 'c', 'd']\n",
        "values = [400, 400, 300, 400]\n",
        "mapped_dict = dict(zip(keys, values))\n",
        "\n",
        "print(\"Counter (\", mapped_dict, \")\")\n"
      ],
      "metadata": {
        "colab": {
          "base_uri": "https://localhost:8080/"
        },
        "id": "6ot7_jfye_JM",
        "outputId": "b2c61547-2860-4c73-cdde-483f9d3ddfd5"
      },
      "execution_count": null,
      "outputs": [
        {
          "output_type": "stream",
          "name": "stdout",
          "text": [
            "Counter ( {'a': 400, 'b': 400, 'c': 300, 'd': 400} )\n"
          ]
        }
      ]
    },
    {
      "cell_type": "markdown",
      "source": [
        "Q 57 Write a Python program to find the highest 3 values in a dictionary\n"
      ],
      "metadata": {
        "id": "c0IWiT6EfKt2"
      }
    },
    {
      "cell_type": "code",
      "source": [
        "my_dict = {'a': 10, 'b': 5, 'c': 15, 'd': 20, 'e': 8}\n",
        "\n",
        "sorted_values = sorted(my_dict.values(), reverse=True)\n",
        "\n",
        "top_3_values = sorted_values[:3]\n",
        "\n",
        "top_3_keys = [key for key, value in my_dict.items() if value in top_3_values]\n",
        "\n",
        "print(\"Highest 3 values:\", top_3_values)\n",
        "print(\"Keys corresponding to the highest 3 values:\", top_3_keys)\n"
      ],
      "metadata": {
        "colab": {
          "base_uri": "https://localhost:8080/"
        },
        "id": "ynCCL6vFfN7E",
        "outputId": "710a85e3-853e-4d3a-c6c4-cd078460c055"
      },
      "execution_count": null,
      "outputs": [
        {
          "output_type": "stream",
          "name": "stdout",
          "text": [
            "Highest 3 values: [20, 15, 10]\n",
            "Keys corresponding to the highest 3 values: ['a', 'c', 'd']\n"
          ]
        }
      ]
    },
    {
      "cell_type": "markdown",
      "source": [
        "Q 58 Write a Python program to combine values in python list of dictionaries.\n",
        "Sample data: [{'item': 'item1', 'amount': 400}, {'item': 'item2', 'amount':\n",
        "300}, o {'item': 'item1', 'amount': 750}]\n",
        "Expected Output:\n",
        "• Counter ({'item1': 1150, 'item2': 300})"
      ],
      "metadata": {
        "id": "kaCHrfeGfeZ2"
      }
    },
    {
      "cell_type": "code",
      "source": [
        "from collections import Counter\n",
        "data = [{'item': 'item1', 'amount': 400},\n",
        "        {'item': 'item2', 'amount': 300},\n",
        "        {'item': 'item1', 'amount': 750}]\n",
        "result = Counter()\n",
        "\n",
        "for entry in data:\n",
        "    result[entry['item']] += entry['amount']\n",
        "print(\"Counter (\", result, \")\")\n"
      ],
      "metadata": {
        "colab": {
          "base_uri": "https://localhost:8080/"
        },
        "id": "kScYxbuvflpV",
        "outputId": "ad0f53ef-5cd5-4c93-986d-7190402daf2a"
      },
      "execution_count": null,
      "outputs": [
        {
          "output_type": "stream",
          "name": "stdout",
          "text": [
            "Counter ( Counter({'item1': 1150, 'item2': 300}) )\n"
          ]
        }
      ]
    },
    {
      "cell_type": "markdown",
      "source": [
        "Q 59 Write a Python program to create a dictionary from a string.\n",
        "Note: Track the count of the letters from the string.\n"
      ],
      "metadata": {
        "id": "Q83Bmm40f1Sf"
      }
    },
    {
      "cell_type": "code",
      "source": [
        "def count_letters(string):\n",
        "    letter_count = {}\n",
        "\n",
        "    for char in string:\n",
        "        if char.isalpha():\n",
        "            char = char.lower()\n",
        "            letter_count[char] = letter_count.get(char, 0) + 1\n",
        "    return letter_count\n",
        "input_string = \"Hello World\"\n",
        "\n",
        "result = count_letters(input_string)\n",
        "print(result)\n"
      ],
      "metadata": {
        "colab": {
          "base_uri": "https://localhost:8080/"
        },
        "id": "6m_CVF6if50t",
        "outputId": "032f1c3e-900a-4672-f051-10c4b1d3b64c"
      },
      "execution_count": null,
      "outputs": [
        {
          "output_type": "stream",
          "name": "stdout",
          "text": [
            "{'h': 1, 'e': 1, 'l': 3, 'o': 2, 'w': 1, 'r': 1, 'd': 1}\n"
          ]
        }
      ]
    },
    {
      "cell_type": "markdown",
      "source": [
        "Q 60 Sample string:\n",
        " 'w3resource' Expected output:\n",
        "• {'3': 1,’s’: 1, 'r': 2, 'u': 1, 'w': 1, 'c': 1, 'e': 2, 'o': 1}"
      ],
      "metadata": {
        "id": "i6CniFZkgMAE"
      }
    },
    {
      "cell_type": "code",
      "source": [
        "def count_characters(string):\n",
        "    char_count = {}\n",
        "\n",
        "    for char in string:\n",
        "        char_count[char] = char_count.get(char, 0) + 1\n",
        "\n",
        "    return char_count\n",
        "input_string = 'w3resource'\n",
        "result = count_characters(input_string)\n",
        "print(result)\n"
      ],
      "metadata": {
        "colab": {
          "base_uri": "https://localhost:8080/"
        },
        "id": "I0VcuphMgQR1",
        "outputId": "ebd6f352-cefa-4840-a3e7-10bad17819e5"
      },
      "execution_count": null,
      "outputs": [
        {
          "output_type": "stream",
          "name": "stdout",
          "text": [
            "{'w': 1, '3': 1, 'r': 2, 'e': 2, 's': 1, 'o': 1, 'u': 1, 'c': 1}\n"
          ]
        }
      ]
    },
    {
      "cell_type": "markdown",
      "source": [
        "Q 61 Write a Python function to calculate the factorial of a number (a\n",
        "nonnegative integer)"
      ],
      "metadata": {
        "id": "t7ImVZ22ggIt"
      }
    },
    {
      "cell_type": "code",
      "source": [
        "def factorial(n):\n",
        "    if n == 0:\n",
        "        return 1\n",
        "    else:\n",
        "        return n * factorial(n - 1)\n",
        "\n",
        "number = 5\n",
        "result = factorial(number)\n",
        "print(f\"The factorial of {number} is {result}\")"
      ],
      "metadata": {
        "colab": {
          "base_uri": "https://localhost:8080/"
        },
        "id": "dOWdq6F3hXZ-",
        "outputId": "5b5f1a4f-9fac-4436-9d89-c8d0ca1a9262"
      },
      "execution_count": null,
      "outputs": [
        {
          "output_type": "stream",
          "name": "stdout",
          "text": [
            "The factorial of 5 is 120\n"
          ]
        }
      ]
    },
    {
      "cell_type": "markdown",
      "source": [
        "Q 62 Write a Python function to check whether a number is in a given range"
      ],
      "metadata": {
        "id": "ZAUtg8dIhuJ9"
      }
    },
    {
      "cell_type": "code",
      "source": [
        "def is_in_range(number, start, end):\n",
        "    if start <= number <= end:\n",
        "        return True\n",
        "    else:\n",
        "        return False\n",
        "number = 10\n",
        "start = 5\n",
        "end = 15\n",
        "\n",
        "if is_in_range(number, start, end):\n",
        "    print(f\"{number} is in the range between {start} and {end}\")\n",
        "else:\n",
        "    print(f\"{number} is not in the range between {start} and {end}\")\n"
      ],
      "metadata": {
        "colab": {
          "base_uri": "https://localhost:8080/"
        },
        "id": "3R8m2VZFhzJm",
        "outputId": "01ffbc54-bc61-4030-9360-20cc052cc5f9"
      },
      "execution_count": null,
      "outputs": [
        {
          "output_type": "stream",
          "name": "stdout",
          "text": [
            "10 is in the range between 5 and 15\n"
          ]
        }
      ]
    },
    {
      "cell_type": "markdown",
      "source": [
        "Q 63 Write a Python function to check whether a number is perfect or not"
      ],
      "metadata": {
        "id": "bNIF5mNOiVvQ"
      }
    },
    {
      "cell_type": "code",
      "source": [
        "def is_perfect_number(number):\n",
        "    if number <= 0:\n",
        "        return False\n",
        "\n",
        "    divisors_sum = 0\n",
        "    for i in range(1, number):\n",
        "        if number % i == 0:\n",
        "            divisors_sum += i\n",
        "\n",
        "    return divisors_sum == number\n",
        "number = 28\n",
        "\n",
        "if is_perfect_number(number):\n",
        "    print(f\"{number} is a perfect number\")\n",
        "else:\n",
        "    print(f\"{number} is not a perfect number\")\n"
      ],
      "metadata": {
        "colab": {
          "base_uri": "https://localhost:8080/"
        },
        "id": "yjr43f7hiZxG",
        "outputId": "9bab6264-2d45-4c65-9a7c-70d67783fd4e"
      },
      "execution_count": null,
      "outputs": [
        {
          "output_type": "stream",
          "name": "stdout",
          "text": [
            "28 is a perfect number\n"
          ]
        }
      ]
    },
    {
      "cell_type": "markdown",
      "source": [
        "Q 64 Write a Python function that checks whether a passed string is\n",
        "palindrome or not\n"
      ],
      "metadata": {
        "id": "-y3t29Lainlu"
      }
    },
    {
      "cell_type": "code",
      "source": [
        "def is_palindrome(string):\n",
        "    string = string.replace(\" \", \"\").lower()\n",
        "\n",
        "    return string == string[::-1]\n",
        "string = \"racecar\"\n",
        "\n",
        "if is_palindrome(string):\n",
        "    print(f\"'{string}' is a palindrome\")\n",
        "else:\n",
        "    print(f\"'{string}' is not a palindrome\")\n"
      ],
      "metadata": {
        "colab": {
          "base_uri": "https://localhost:8080/"
        },
        "id": "VVt3qc45irPw",
        "outputId": "460282dd-6a47-4abb-8fad-6a86bde39f30"
      },
      "execution_count": null,
      "outputs": [
        {
          "output_type": "stream",
          "name": "stdout",
          "text": [
            "'racecar' is a palindrome\n"
          ]
        }
      ]
    },
    {
      "cell_type": "markdown",
      "source": [
        "Q 65 How Many Basic Types of Functions Are Available in Python?\n",
        "\n",
        "  print ()\n",
        "\n",
        "   len ()\n",
        "\n",
        "   abs ()\n",
        "\n",
        "   sum ()\n",
        "  etc.\n"
      ],
      "metadata": {
        "id": "d9VaG5xxh1VJ"
      }
    },
    {
      "cell_type": "markdown",
      "source": [
        "Q 66 How can you pick a random item from a list or tuple?"
      ],
      "metadata": {
        "id": "GAFGTJl-icGy"
      }
    },
    {
      "cell_type": "code",
      "source": [
        "my_list = ['apple', 'banana', 'cherry', 'date']\n",
        "\n",
        "random_item = random.choice(my_list)\n",
        "\n",
        "print(f\"Randomly selected item from list: {random_item}\")\n"
      ],
      "metadata": {
        "colab": {
          "base_uri": "https://localhost:8080/"
        },
        "id": "6YduDOfSigfC",
        "outputId": "22b2d81f-bf05-406e-fce2-832579c6c248"
      },
      "execution_count": null,
      "outputs": [
        {
          "output_type": "stream",
          "name": "stdout",
          "text": [
            "Randomly selected item from list: banana\n"
          ]
        }
      ]
    },
    {
      "cell_type": "markdown",
      "source": [
        "Q 67 How can you pick a random item from a range?\n"
      ],
      "metadata": {
        "id": "Jlwxopq-jKe5"
      }
    },
    {
      "cell_type": "code",
      "source": [
        "random_number = random.randint(1, 100)\n",
        "\n",
        "print(f\"Randomly selected number from range: {random_number}\")"
      ],
      "metadata": {
        "colab": {
          "base_uri": "https://localhost:8080/"
        },
        "id": "BWGOgJ3IjNvJ",
        "outputId": "83247ca3-4906-4b75-b41e-0d24fc128ad2"
      },
      "execution_count": null,
      "outputs": [
        {
          "output_type": "stream",
          "name": "stdout",
          "text": [
            "Randomly selected number from range: 61\n"
          ]
        }
      ]
    },
    {
      "cell_type": "markdown",
      "source": [
        "Q 68 How can you get a random number in python?\n"
      ],
      "metadata": {
        "id": "TTPaQ809jiL6"
      }
    },
    {
      "cell_type": "code",
      "source": [
        "random_number = random.randint(1, 10)\n",
        "print(f\"Random integer between 1 and 10: {random_number}\")\n"
      ],
      "metadata": {
        "colab": {
          "base_uri": "https://localhost:8080/"
        },
        "id": "oBOUAWxxjswT",
        "outputId": "27651265-4948-4d81-ee5c-de63d9a55bc8"
      },
      "execution_count": null,
      "outputs": [
        {
          "output_type": "stream",
          "name": "stdout",
          "text": [
            "Random integer between 1 and 10: 6\n"
          ]
        }
      ]
    },
    {
      "cell_type": "markdown",
      "source": [
        "Q 69 How will you set the starting value in generating random numbers?\n",
        "\n",
        "   In Python, you can set the starting value for generating random numbers by using the random.seed() function."
      ],
      "metadata": {
        "id": "BN0TKO_YkByA"
      }
    },
    {
      "cell_type": "markdown",
      "source": [
        "Q 70 How will you randomize the items of a list in place?\n"
      ],
      "metadata": {
        "id": "geRk99_QkVMy"
      }
    },
    {
      "cell_type": "code",
      "source": [
        "my_list = [1, 2, 3, 4, 5]\n",
        "\n",
        "random.shuffle(my_list)\n",
        "\n",
        "print(f\"Shuffled list: {my_list}\")\n"
      ],
      "metadata": {
        "colab": {
          "base_uri": "https://localhost:8080/"
        },
        "id": "4JAlJURukZ7j",
        "outputId": "975b47c3-0272-4708-c257-8223db7c6246"
      },
      "execution_count": null,
      "outputs": [
        {
          "output_type": "stream",
          "name": "stdout",
          "text": [
            "Shuffled list: [2, 5, 8, 3, 1]\n"
          ]
        }
      ]
    },
    {
      "cell_type": "markdown",
      "source": [
        "Q 71 What is File function in python? What are keywords to create\n",
        "and write file.\n"
      ],
      "metadata": {
        "id": "6guh1sE8k0Lb"
      }
    },
    {
      "cell_type": "code",
      "source": [
        "# In Python, file handling is used to create, read, write, and manipulate files.\n",
        "\n",
        "# Opens a file for writing.\n",
        "# If the file does not exist, it creates a new file.\n",
        "# If the file exists, it overwrites the file."
      ],
      "metadata": {
        "id": "Z-45Rr6bk7nu"
      },
      "execution_count": null,
      "outputs": []
    },
    {
      "cell_type": "markdown",
      "source": [
        "Q 72 Write a Python program to read an entire text file.\n"
      ],
      "metadata": {
        "id": "52yLz428lsH6"
      }
    },
    {
      "cell_type": "code",
      "source": [
        "def read_file(file_name):\n",
        "    try:\n",
        "\n",
        "        with open(file_name, 'r') as file:\n",
        "\n",
        "            content = file.read()\n",
        "            return content\n",
        "    except FileNotFoundError:\n",
        "        return \"The file does not exist.\"\n",
        "\n",
        "file_name = 'example.txt'\n",
        "\n",
        "file_content = read_file(file_name)\n",
        "print(file_content)\n"
      ],
      "metadata": {
        "colab": {
          "base_uri": "https://localhost:8080/"
        },
        "id": "0J2sG1mdlyv7",
        "outputId": "9f4ac14c-1d26-4c25-a5cd-47b1bdc28dda"
      },
      "execution_count": null,
      "outputs": [
        {
          "output_type": "stream",
          "name": "stdout",
          "text": [
            "The file does not exist.\n"
          ]
        }
      ]
    },
    {
      "cell_type": "markdown",
      "source": [
        "Q 73 Write a Python program to append text to a file and display the text."
      ],
      "metadata": {
        "id": "0O-IXL15mDsj"
      }
    },
    {
      "cell_type": "code",
      "source": [
        "def append_and_display(file_name, text_to_append):\n",
        "    try:\n",
        "\n",
        "        with open(file_name, 'a') as file:\n",
        "            file.write(text_to_append + '\\n')\n",
        "\n",
        "        with open(file_name, 'r') as file:\n",
        "            content = file.read()\n",
        "            return content\n",
        "    except FileNotFoundError:\n",
        "        return \"The file does not exist.\"\n",
        "\n",
        "text_to_append = \"This is the appended text.\"\n",
        "\n",
        "updated_content = append_and_display(file_name, text_to_append)\n",
        "print(updated_content)\n"
      ],
      "metadata": {
        "colab": {
          "base_uri": "https://localhost:8080/"
        },
        "id": "cfMp6J-XmIOD",
        "outputId": "7cb10ad4-fa80-4b80-abca-d4b414fe35e0"
      },
      "execution_count": null,
      "outputs": [
        {
          "output_type": "stream",
          "name": "stdout",
          "text": [
            "This is the appended text.\n",
            "This is the appended text.\n",
            "This is the appended text.\n",
            "\n"
          ]
        }
      ]
    },
    {
      "cell_type": "markdown",
      "source": [
        "Q 74 Write a Python program to read first n lines of a file"
      ],
      "metadata": {
        "id": "ZDoR-wcBnhLL"
      }
    },
    {
      "cell_type": "code",
      "source": [
        "def read_first_n_lines(file_path, n):\n",
        "    try:\n",
        "        with open(file_path, 'r') as file:\n",
        "            for line in itertools.islice(file, n):\n",
        "                print(line.strip())\n",
        "    except FileNotFoundError:\n",
        "        print(f\"The file '{file_path}' does not exist.\")\n",
        "    except Exception as e:\n",
        "        print(f\"An error occurred: {e}\")\n",
        "\n",
        "file_path = 'example.txt'\n",
        "n = 5\n",
        "read_first_n_lines(file_path, n)\n",
        "\n",
        "\n",
        "\n"
      ],
      "metadata": {
        "colab": {
          "base_uri": "https://localhost:8080/"
        },
        "id": "x7zLbJGrjhf-",
        "outputId": "fc17c4c2-0488-454f-9c56-0bc4ad4fda13"
      },
      "execution_count": 9,
      "outputs": [
        {
          "output_type": "stream",
          "name": "stdout",
          "text": [
            "The file 'example.txt' does not exist.\n"
          ]
        }
      ]
    },
    {
      "cell_type": "markdown",
      "source": [
        "Q 75 Write a Python program to read last n lines of a file.\n"
      ],
      "metadata": {
        "id": "nru8NLhJlKyx"
      }
    },
    {
      "cell_type": "code",
      "source": [
        "def read_last_n_lines(file_path, n):\n",
        "    try:\n",
        "        with open(file_path, 'r') as file:\n",
        "            for line in last_lines:\n",
        "                print(line.strip())\n",
        "    except FileNotFoundError:\n",
        "        print(f\"The file '{file_path}' does not exist.\")\n",
        "\n",
        "read_last_n_lines(file_path, n)"
      ],
      "metadata": {
        "colab": {
          "base_uri": "https://localhost:8080/"
        },
        "id": "q09cS7vblOsW",
        "outputId": "96d7c297-c5c7-4dd0-88de-c3d65bd9160c"
      },
      "execution_count": 26,
      "outputs": [
        {
          "output_type": "stream",
          "name": "stdout",
          "text": [
            "The file 'example.txt' does not exist.\n"
          ]
        }
      ]
    },
    {
      "cell_type": "markdown",
      "source": [
        "Q 76 Write a Python program to read a file line by line and store it into a list\n"
      ],
      "metadata": {
        "id": "M3VQQtt8m5rz"
      }
    },
    {
      "cell_type": "code",
      "source": [
        "def file_to_list(file_path):\n",
        "    try:\n",
        "        with open(file_path, 'r') as file:\n",
        "            lines = [line.strip() for line in file]\n",
        "        return lines\n",
        "    except FileNotFoundError:\n",
        "        print(f\"The file '{file_path}' does not exist.\")\n",
        "        return []\n",
        "    except Exception as e:\n",
        "        print(f\"An error occurred: {e}\")\n",
        "        return []\n",
        "\n",
        "file_path = 'example.txt'\n",
        "lines = file_to_list(file_path)\n",
        "print(lines)\n"
      ],
      "metadata": {
        "colab": {
          "base_uri": "https://localhost:8080/"
        },
        "id": "BQjddgVlm9Wd",
        "outputId": "a317050c-a3f1-4356-ba03-810276a593d8"
      },
      "execution_count": 29,
      "outputs": [
        {
          "output_type": "stream",
          "name": "stdout",
          "text": [
            "The file 'example.txt' does not exist.\n",
            "[]\n"
          ]
        }
      ]
    },
    {
      "cell_type": "markdown",
      "source": [
        "Q 77 Write a Python program to read a file line by line store it into a variable.\n"
      ],
      "metadata": {
        "id": "yi1TPWEunMAH"
      }
    },
    {
      "cell_type": "code",
      "source": [
        "def file_to_variable(file_path):\n",
        "    try:\n",
        "        with open(file_path, 'r') as file:\n",
        "            content = file.readlines()\n",
        "        return content\n",
        "    except FileNotFoundError:\n",
        "        print(f\"The file '{file_path}' does not exist.\")\n",
        "        return \"\"\n",
        "\n",
        "# Example usage:\n",
        "file_path = 'example.txt'\n",
        "content = file_to_variable(file_path)\n",
        "print(content)\n"
      ],
      "metadata": {
        "colab": {
          "base_uri": "https://localhost:8080/"
        },
        "id": "koBtxZmBnPvO",
        "outputId": "d3b99226-8f95-4287-d231-c480d34c2310"
      },
      "execution_count": 33,
      "outputs": [
        {
          "output_type": "stream",
          "name": "stdout",
          "text": [
            "The file 'example.txt' does not exist.\n",
            "None\n"
          ]
        }
      ]
    },
    {
      "cell_type": "markdown",
      "source": [
        "Q 78 Write a python program to find the longest words."
      ],
      "metadata": {
        "id": "utiOOtvfnhMV"
      }
    },
    {
      "cell_type": "code",
      "source": [
        "def find_longest_words(file_path):\n",
        "    try:\n",
        "        with open(file_path, 'r') as file:\n",
        "            words = file.read().split()\n",
        "\n",
        "        return longest_words\n",
        "    except FileNotFoundError:\n",
        "        print(f\"The file '{file_path}' does not exist.\")\n",
        "        return []\n",
        "    except Exception as e:\n",
        "        print(f\"An error occurred: {e}\")\n",
        "        return []\n",
        "file_path = 'example.txt'\n",
        "longest_words = find_longest_words(file_path)\n",
        "print(\"Longest words:\", longest_words)\n",
        "\n"
      ],
      "metadata": {
        "colab": {
          "base_uri": "https://localhost:8080/"
        },
        "id": "mxQe5t1snkRm",
        "outputId": "f310b36b-f7f4-4eab-c09b-e0a980032b3b"
      },
      "execution_count": 41,
      "outputs": [
        {
          "output_type": "stream",
          "name": "stdout",
          "text": [
            "The file 'example.txt' does not exist.\n",
            "Longest words: []\n"
          ]
        }
      ]
    },
    {
      "cell_type": "markdown",
      "source": [
        "Q 79 Write a Python program to count the number of lines in a text file."
      ],
      "metadata": {
        "id": "WESWzdoGoDyQ"
      }
    },
    {
      "cell_type": "code",
      "source": [
        "def count_lines_in_file(file_path):\n",
        "    try:\n",
        "        with open(file_path, 'r') as file:\n",
        "            line_count = sum(1 for _ in file)\n",
        "        return line_count\n",
        "    except FileNotFoundError:\n",
        "        print(f\"The file '{file_path}' does not exist.\")\n",
        "        return 0\n",
        "    except Exception as e:\n",
        "        print(f\"An error occurred: {e}\")\n",
        "        return 0\n",
        "file_path = 'example.txt'\n",
        "line_count = count_lines_in_file(file_path)\n",
        "print(f\"Number of lines: {line_count}\")\n"
      ],
      "metadata": {
        "colab": {
          "base_uri": "https://localhost:8080/"
        },
        "id": "6PpD266soGfR",
        "outputId": "2f945206-0ad7-43ca-d3e6-8ef6fcd8282d"
      },
      "execution_count": 42,
      "outputs": [
        {
          "output_type": "stream",
          "name": "stdout",
          "text": [
            "The file 'example.txt' does not exist.\n",
            "Number of lines: 0\n"
          ]
        }
      ]
    },
    {
      "cell_type": "markdown",
      "source": [
        "Q 80 Write a Python program to count the frequency of words in a file.\n"
      ],
      "metadata": {
        "id": "4X12TldbodBZ"
      }
    },
    {
      "cell_type": "code",
      "source": [
        "from collections import Counter\n",
        "import re\n",
        "\n",
        "def count_word_frequency(file_path):\n",
        "    try:\n",
        "        with open(file_path, 'r') as file:\n",
        "            text = file.read().lower()\n",
        "            words = re.findall(r'\\b\\w+\\b', text)\n",
        "            word_count = Counter(words)\n",
        "        return word_count\n",
        "    except FileNotFoundError:\n",
        "        print(f\"The file '{file_path}' does not exist.\")\n",
        "        return {}\n",
        "    except Exception as e:\n",
        "        print(f\"An error occurred: {e}\")\n",
        "        return {}\n",
        "\n",
        "file_path = 'example.txt'\n",
        "word_frequency = count_word_frequency(file_path)\n",
        "print(\"Word frequencies:\", word_frequency)\n"
      ],
      "metadata": {
        "colab": {
          "base_uri": "https://localhost:8080/"
        },
        "id": "oWOfAlWGof_N",
        "outputId": "e5ed4b37-6926-41d5-db10-82b7dd9e03a1"
      },
      "execution_count": 43,
      "outputs": [
        {
          "output_type": "stream",
          "name": "stdout",
          "text": [
            "The file 'example.txt' does not exist.\n",
            "Word frequencies: {}\n"
          ]
        }
      ]
    },
    {
      "cell_type": "markdown",
      "source": [
        "Q 81 Write a Python program to write a list to a file.\n"
      ],
      "metadata": {
        "id": "fUisfVm7pLOO"
      }
    },
    {
      "cell_type": "code",
      "source": [
        "def write_list_to_file(file_path, data_list):\n",
        "    try:\n",
        "        with open(file_path, 'w') as file:\n",
        "            for item in data_list:\n",
        "                file.write(f\"{item}\\n\")\n",
        "        print(f\"List successfully written to '{file_path}'\")\n",
        "    except Exception as e:\n",
        "        print(f\"An error occurred: {e}\")\n",
        "\n",
        "file_path = 'output.txt'\n",
        "write_list_to_file(file_path, data_list)\n"
      ],
      "metadata": {
        "colab": {
          "base_uri": "https://localhost:8080/"
        },
        "id": "GsId9MLkpQDq",
        "outputId": "de0b47ed-5374-4b3d-aea8-dbcdd4df3b27"
      },
      "execution_count": 46,
      "outputs": [
        {
          "output_type": "stream",
          "name": "stdout",
          "text": [
            "List successfully written to 'output.txt'\n"
          ]
        }
      ]
    },
    {
      "cell_type": "markdown",
      "source": [
        "Q 82 Write a Python program to copy the contents of a file to another file."
      ],
      "metadata": {
        "id": "nsjtfC1sph3t"
      }
    },
    {
      "cell_type": "code",
      "source": [
        "def copy_file(source_file, destination_file):\n",
        "    try:\n",
        "        with open(source_file, 'r') as src:\n",
        "            content = src.read()\n",
        "\n",
        "        with open(destination_file, 'w') as dest:\n",
        "            dest.write(content)\n",
        "\n",
        "        print(f\"Contents successfully copied from '{source_file}' to '{destination_file}'\")\n",
        "    except FileNotFoundError:\n",
        "        print(f\"The file '{source_file}' does not exist.\")\n",
        "    except Exception as e:\n",
        "        print(f\"An error occurred: {e}\")\n",
        "\n",
        "source_file = 'source.txt'\n",
        "destination_file = 'destination.txt'\n",
        "copy_file(source_file, destination_file)\n"
      ],
      "metadata": {
        "colab": {
          "base_uri": "https://localhost:8080/"
        },
        "id": "4d1P58_opm4O",
        "outputId": "6921b50d-cd1f-4da9-c044-795a6eb16e70"
      },
      "execution_count": 47,
      "outputs": [
        {
          "output_type": "stream",
          "name": "stdout",
          "text": [
            "The file 'source.txt' does not exist.\n"
          ]
        }
      ]
    },
    {
      "cell_type": "markdown",
      "source": [
        "Q 83 Explain Exception handling? What is an Error in Python?\n",
        "\n",
        "  Exception handling in Python is a mechanism that allows a programmer to gracefully handle runtime errors (exceptions) to avoid crashing the program and manage unexpected behaviors.\n",
        "\n",
        "\n",
        "   an error is a problem that arises during the execution of the program, causing the program to stop."
      ],
      "metadata": {
        "id": "s0X8Y_MPp6Ou"
      }
    },
    {
      "cell_type": "markdown",
      "source": [
        "Q 84 How many except statements can a try-except block have? Name\n",
        "Some built-in exception classes"
      ],
      "metadata": {
        "id": "ZkBmaagbqRC_"
      }
    },
    {
      "cell_type": "code",
      "source": [
        "def exception_demo():\n",
        "    try:\n",
        "        file_name = input(\"Enter the file name to open: \")\n",
        "        with open(file_name, 'r') as file:\n",
        "            data = file.read()\n",
        "\n",
        "        num = int(input(\"Enter a number to divide 100 by: \"))\n",
        "        result = 100 / num\n",
        "        print(f\"Result: {result}\")\n",
        "\n",
        "    except FileNotFoundError:\n",
        "        print(\"Error: The file you are trying to open does not exist.\")\n",
        "\n",
        "    except ValueError:\n",
        "        print(\"Error: Invalid input. Please enter a valid number.\")\n",
        "\n",
        "    except ZeroDivisionError:\n",
        "        print(\"Error: Division by zero is not allowed.\")\n",
        "\n",
        "    except Exception as e:\n",
        "        print(f\"An unexpected error occurred: {e}\")\n",
        "\n",
        "    finally:\n",
        "        print(\"This block executes no matter what.\")\n",
        "\n",
        "# Example usage\n",
        "exception_demo()\n",
        "\n"
      ],
      "metadata": {
        "colab": {
          "base_uri": "https://localhost:8080/"
        },
        "id": "XYO3GhmmqVOi",
        "outputId": "490cceff-060c-4aef-c9fe-0d5547d3481d"
      },
      "execution_count": 52,
      "outputs": [
        {
          "output_type": "stream",
          "name": "stdout",
          "text": [
            "Enter the file name to open: WORLD\n",
            "Error: The file you are trying to open does not exist.\n",
            "This block executes no matter what.\n"
          ]
        }
      ]
    },
    {
      "cell_type": "markdown",
      "source": [
        "Q 85 When will the else part of try-except-else be executed?\n",
        "\n",
        "  the else block runs when the code inside the try block executes successfully without encountering any errors."
      ],
      "metadata": {
        "id": "bAERuzShrIN3"
      }
    },
    {
      "cell_type": "markdown",
      "source": [
        "Q 86 Can one block of except statements handle multiple exception?\n",
        "\n",
        " Yes, a single except block in Python can handle multiple exceptions by specifying a tuple of exception types. This is useful when you want to handle multiple exceptions in the same way, instead of writing separate except blocks for each exception."
      ],
      "metadata": {
        "id": "Dq9hqbFhrbYW"
      }
    },
    {
      "cell_type": "markdown",
      "source": [
        "Q 87 When is the finally block executed?\n",
        "\n",
        " The finally block in Python is always executed, regardless of whether an exception occurred in the try block or not."
      ],
      "metadata": {
        "id": "_VHgDUuGrojn"
      }
    },
    {
      "cell_type": "markdown",
      "source": [
        "Q 88 What happens when „1‟== 1 is executed?\n",
        "\n",
        " When the expression 1 == '1' is executed in Python, it evaluates to False because the == operator checks for value equality"
      ],
      "metadata": {
        "id": "EaqnzBzRr5Qv"
      }
    },
    {
      "cell_type": "markdown",
      "source": [
        "Q 89 How Do You Handle Exceptions with Try/Except/Finally in Python?\n",
        "Explain with coding snippets?\n",
        "\n",
        " # In Python, exceptions can be handled using the try-except-finally structure.\n",
        "try block: Contains the code that might raise an exception.\n",
        "\n",
        "except block: Handles specific exceptions raised in the try block. You can specify multiple exceptions or a general one.\n",
        "\n",
        "finally block: Contains code that will execute no matter what—whether an exception was raised or not. This is commonly used for cleanup tasks like closing files or network connections."
      ],
      "metadata": {
        "id": "YL-IdmcKsDCh"
      }
    },
    {
      "cell_type": "markdown",
      "source": [
        "Q 90 Write python program that user to enter only odd numbers, else\n",
        "will raise an exception."
      ],
      "metadata": {
        "id": "gc1zTadLsrCo"
      }
    },
    {
      "cell_type": "code",
      "source": [
        "class EvenNumberError(Exception):\n",
        "    \"\"\"Custom exception for even number input.\"\"\"\n",
        "    pass\n",
        "\n",
        "def get_odd_number():\n",
        "    try:\n",
        "        num = int(input(\"Enter an odd number: \"))\n",
        "        if num % 2 == 0:\n",
        "\n",
        "            raise EvenNumberError(\"Error: You entered an even number!\")\n",
        "        else:\n",
        "            print(f\" You entered an odd number: {num}\")\n",
        "\n",
        "    except EvenNumberError as e:\n",
        "        print(e)\n",
        "\n",
        "    except ValueError:\n",
        "        print(\"Error: Invalid input! Please enter a valid integer.\")\n",
        "\n",
        "get_odd_number()\n"
      ],
      "metadata": {
        "colab": {
          "base_uri": "https://localhost:8080/"
        },
        "id": "nwC1HcO3svQw",
        "outputId": "46fc8a62-a9dc-486b-a9e7-6498a81fb583"
      },
      "execution_count": 60,
      "outputs": [
        {
          "output_type": "stream",
          "name": "stdout",
          "text": [
            "Enter an odd number: 3\n",
            " You entered an odd number: 3\n"
          ]
        }
      ]
    }
  ]
}